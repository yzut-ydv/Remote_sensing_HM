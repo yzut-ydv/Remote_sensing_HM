{
 "cells": [
  {
   "cell_type": "markdown",
   "metadata": {},
   "source": [
    "<img align=\"right\" width=\"240\" height=\"240\" src=\"img/HS_Mu__nchen_Logo.png\"/>"
   ]
  },
  {
   "cell_type": "markdown",
   "metadata": {},
   "source": [
    "<style>\n",
    "p.small {\n",
    "  line-height: 1;\n",
    "}\n",
    "</style>\n",
    "<body>\n",
    "    \n",
    "<p class=\"small\"> <b>Geoinformatics | Course Remote Sensing (1)</b><br> <small>Schmitt | Ulloa</small><br> <small>Summer Semester 2021</small><br></p>"
   ]
  },
  {
   "cell_type": "markdown",
   "metadata": {},
   "source": [
    "<h1>Practice 4: Unsupervised classification Part I</h1>"
   ]
  },
  {
   "cell_type": "markdown",
   "metadata": {},
   "source": [
    "<h2>Overview</h2>"
   ]
  },
  {
   "cell_type": "markdown",
   "metadata": {},
   "source": [
    "<p class=\"main\"><b>Objectives:</b> Perform an unsupervised classification of your AOI, on a multiband image data using Python you need GDAL, Numpy and Sklearn.</p>\n",
    "\n",
    "<p><b>Data:</b> For this practice, use the following files: </p>\n",
    "\n",
    "<p class=\"data\"></p>\n",
    "<ul>\n",
    "    <li> Vector file: Shapefile (AOIs.shp, id_1.shp, id_2.shp, id_3.shp and associated files). See practice 2</li> \n",
    "    <li> Raster product: L1C_T32UPU_A021326_20190723T101347. See practice 2</li> \n",
    "</ul>\n",
    "\n",
    "<p><b>Tasks:</b> load your rasterfile in QGIS and crop it. Later on, load it in Python and perform an unsupervised classification. Export the classification file and visualize it.</p> \n"
   ]
  },
  {
   "cell_type": "markdown",
   "metadata": {},
   "source": [
    "<h2>Procedure</h2>"
   ]
  },
  {
   "cell_type": "markdown",
   "metadata": {},
   "source": [
    "<p>In order to crop your Sentinel raster to your Area of Interest (AOI), you would have to load first all necessary bands into QGIS, as well as the shapefile (id_1.shp, id_2.shp, id_3.shp).</p>  \n",
    "\n",
    "<p>For this course, we will work with bands RED, GREEN, BLUE and NIR. Load the corresponding bands into QGIS, and crop against the shapefile using the <code>Raster > Extraction > Clip Raster by Extent</code>.</p>"
   ]
  },
  {
   "cell_type": "markdown",
   "metadata": {},
   "source": [
    "<img src=\"img/img_p4_crop_qgis.png\" width=\"700\"/>"
   ]
  },
  {
   "cell_type": "markdown",
   "metadata": {},
   "source": [
    "1. Which Sentinel-2 bands correspond to RED, GREEN, BLUE and NIR?"
   ]
  },
  {
   "cell_type": "code",
   "execution_count": null,
   "metadata": {},
   "outputs": [],
   "source": []
  },
  {
   "cell_type": "markdown",
   "metadata": {},
   "source": [
    "2. What are the differences between band 5 and band 8?"
   ]
  },
  {
   "cell_type": "markdown",
   "metadata": {},
   "source": []
  },
  {
   "cell_type": "markdown",
   "metadata": {},
   "source": [
    "3. What are the differences between band 8 and band 8A?"
   ]
  },
  {
   "cell_type": "markdown",
   "metadata": {},
   "source": []
  },
  {
   "cell_type": "markdown",
   "metadata": {},
   "source": [
    "4. What does L1C in the label of the Sentinel data mean?"
   ]
  },
  {
   "cell_type": "markdown",
   "metadata": {},
   "source": []
  },
  {
   "cell_type": "markdown",
   "metadata": {},
   "source": [
    "<p>After you have cropped all bands, you will create a RasterStack. For thi purpose, you can use the <code>Raster > Miscellaneous > Merge tools</code>.</p> \n",
    "\n",
    "<img src=\"img/img_p4_stack_qgis.png\" width=\"400\"/>"
   ]
  },
  {
   "cell_type": "markdown",
   "metadata": {},
   "source": [
    "5. Try the Merge function without selecting the option \"Place each input file into a separate band\". What happens? How is the resultant image? "
   ]
  },
  {
   "cell_type": "code",
   "execution_count": null,
   "metadata": {},
   "outputs": [],
   "source": []
  },
  {
   "cell_type": "markdown",
   "metadata": {},
   "source": [
    "<h4>Load and visualize raster</h4>"
   ]
  },
  {
   "cell_type": "markdown",
   "metadata": {},
   "source": [
    "Later on, load your cropped RasterStack into Python. In order to visualize your data you will need the Matplotlib libraries."
   ]
  },
  {
   "cell_type": "code",
   "execution_count": 1,
   "metadata": {},
   "outputs": [],
   "source": [
    "import matplotlib.pyplot as plt\n",
    "%matplotlib inline\n",
    "from matplotlib.patches import Patch\n",
    "from matplotlib.colors import ListedColormap\n",
    "import matplotlib.colors as colors"
   ]
  },
  {
   "cell_type": "markdown",
   "metadata": {},
   "source": [
    "These are the libraries we are going to use to read and write our imagery and prediction rasters"
   ]
  },
  {
   "cell_type": "code",
   "execution_count": 2,
   "metadata": {},
   "outputs": [],
   "source": [
    "#from osgeo import gdal, gdal_array\n",
    "import os\n",
    "import rasterio as rio\n",
    "import numpy as np\n",
    "from rasterio.plot import show\n",
    "from rasterio.plot import plotting_extent"
   ]
  },
  {
   "cell_type": "markdown",
   "metadata": {},
   "source": [
    "<p>6. Read your rasterstack using the function <code>open</code> from the package rio(rasterio). Assign your raster to an object called \"s2_stack\". Remeber to specify first the path where your data is located. Store your path in an object called \"folder_src\".</p>"
   ]
  },
  {
   "cell_type": "code",
   "execution_count": null,
   "metadata": {},
   "outputs": [],
   "source": []
  },
  {
   "cell_type": "markdown",
   "metadata": {},
   "source": [
    "<p>To check that you loaded your raster, you can print some of the properties of that raster. I'll check here the number of bands.</p>"
   ]
  },
  {
   "cell_type": "code",
   "execution_count": null,
   "metadata": {},
   "outputs": [],
   "source": []
  },
  {
   "cell_type": "markdown",
   "metadata": {},
   "source": [
    "<p>7. Apply the necessary functions (see Practice 1) to extract the name, dimensions and resolution of your raster.</p>"
   ]
  },
  {
   "cell_type": "code",
   "execution_count": null,
   "metadata": {},
   "outputs": [],
   "source": []
  },
  {
   "cell_type": "markdown",
   "metadata": {},
   "source": [
    "<h4>Plot a single band: NIR</h4>\n",
    "<p>Let's make a visualization of one band from your RasterStack, in this case the NIR band</p>"
   ]
  },
  {
   "cell_type": "code",
   "execution_count": null,
   "metadata": {},
   "outputs": [],
   "source": [
    "#Plot Band NIR\n",
    "fig,ax = plt.subplots(figsize=(20,20))\n",
    "nirNpArray = s2_stack.read(4)\n",
    "ax.set_title(\"NIR-Band\")\n",
    "# Be careful Numpy Array indexes start at zero!\n",
    "#This command equals the one we used before to visualize band 4 using the show() function from rasterio\n",
    "plot=ax.imshow(nirNpArray, cmap='magma')\n",
    "plt.colorbar(plot,shrink=0.6)\n",
    "plt.show()"
   ]
  },
  {
   "cell_type": "markdown",
   "metadata": {},
   "source": [
    "<p>8. Change the settings of the previous function with the following values:\n",
    "    <ul>\n",
    "        <li>figsize=(5,5)</li>\n",
    "        <li>plt.colorbar(plot,shrink=1)</li></p>"
   ]
  },
  {
   "cell_type": "code",
   "execution_count": null,
   "metadata": {},
   "outputs": [],
   "source": []
  },
  {
   "cell_type": "markdown",
   "metadata": {},
   "source": [
    "<p>9. Explain the purpose of the parameters <code>figsize</code> and <code>shrink</code></p>"
   ]
  },
  {
   "cell_type": "code",
   "execution_count": null,
   "metadata": {},
   "outputs": [],
   "source": []
  },
  {
   "cell_type": "markdown",
   "metadata": {},
   "source": [
    "<p>10. <code>cmap</code> is a parameter that defines some defined color scales for maps in the matplotlib package. Using the information on the next image, choose another color scale and change the color of your map.</p>\n",
    "\n",
    "<img src=\"img/img_p4_cmap_colormap.png\" width=\"700\"/>"
   ]
  },
  {
   "cell_type": "code",
   "execution_count": null,
   "metadata": {},
   "outputs": [],
   "source": []
  },
  {
   "cell_type": "markdown",
   "metadata": {},
   "source": [
    "<p>11. Using the previous line code, plot the bands BLUE and GREEN. Remember to update the title with the command <code>ax.set_title(\"your title\")</code> </p>"
   ]
  },
  {
   "cell_type": "code",
   "execution_count": null,
   "metadata": {},
   "outputs": [],
   "source": []
  },
  {
   "cell_type": "markdown",
   "metadata": {},
   "source": [
    "<p>12. Now we want to take a look at the structure of the RasterStack with a function you will use afterwards. Use the function <code>shape</code> to extract the information of the number of columns and rows of your rasterstack (hint: name_of_your_raster.shape)</p>"
   ]
  },
  {
   "cell_type": "code",
   "execution_count": null,
   "metadata": {},
   "outputs": [],
   "source": []
  },
  {
   "cell_type": "markdown",
   "metadata": {},
   "source": [
    "<p>13. Please explain the meaning of the values from the result of the function <code>shape</code>. Which other functions so far in this practice have returned the same values?</p>"
   ]
  },
  {
   "cell_type": "code",
   "execution_count": null,
   "metadata": {},
   "outputs": [],
   "source": []
  },
  {
   "cell_type": "markdown",
   "metadata": {},
   "source": [
    "<p>Now we will use the previous function and store the NIR band in an object called \"band\". This object will be turned into a vector for the classification purposes in the next step</p>"
   ]
  },
  {
   "cell_type": "code",
   "execution_count": null,
   "metadata": {},
   "outputs": [],
   "source": [
    "# Create an object called \"band\" that stores the 4th value of your rasterstack = NIR band\n",
    "band = s2_stack.read(4)\n",
    "band.shape"
   ]
  },
  {
   "cell_type": "markdown",
   "metadata": {},
   "source": [
    "NOTE: for more information about the color scales, visit: https://matplotlib.org/tutorials/colors/colormaps.html\n",
    "            "
   ]
  },
  {
   "cell_type": "markdown",
   "metadata": {},
   "source": [
    "<div style=\"text-align: right\"> <small>This tutorial was prepared with the support from Gabriel Cevallos. May 2020</small> </div>"
   ]
  }
 ],
 "metadata": {
  "kernelspec": {
   "display_name": "Python 3",
   "language": "python",
   "name": "python3"
  },
  "language_info": {
   "codemirror_mode": {
    "name": "ipython",
    "version": 3
   },
   "file_extension": ".py",
   "mimetype": "text/x-python",
   "name": "python",
   "nbconvert_exporter": "python",
   "pygments_lexer": "ipython3",
   "version": "3.7.6"
  }
 },
 "nbformat": 4,
 "nbformat_minor": 4
}
