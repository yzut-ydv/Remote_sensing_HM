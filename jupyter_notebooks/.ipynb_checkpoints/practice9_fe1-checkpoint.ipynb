{
 "cells": [
  {
   "cell_type": "markdown",
   "metadata": {},
   "source": [
    "<img align=\"right\" width=\"240\" height=\"240\" src=\"img/HS_Mu__nchen_Logo.png\"/>"
   ]
  },
  {
   "cell_type": "markdown",
   "metadata": {},
   "source": [
    "<style>\n",
    "p.small {\n",
    "  line-height: 1;\n",
    "}\n",
    "</style>\n",
    "<body>\n",
    "    \n",
    "<p class=\"small\"> <b>Geoinformatics | Course Remote Sensing (1)</b><br> <small>Schmitt | Ulloa</small><br> <small>Summer Semester 2022</small><br></p>"
   ]
  },
  {
   "cell_type": "markdown",
   "metadata": {},
   "source": [
    "<h1>Practice 9: Pre-processing of raster data III - Geometric Correction</h1>"
   ]
  },
  {
   "cell_type": "markdown",
   "metadata": {},
   "source": [
    "<h2>Overview</h2>"
   ]
  },
  {
   "cell_type": "markdown",
   "metadata": {},
   "source": [
    "<p class=\"main\"><b>Objectives:</b> Perform a geometric correction on a Raster file from EnMap.</p>\n",
    "\n",
    "<p><b>Data:</b> For this practice, use the following files: </p>\n",
    "\n",
    "<p class=\"data\"></p>\n",
    "<ul>\n",
    "    <li> Raster files:</li>\n",
    "    <ul>\n",
    "        <li>Sentinel - 2 Bottom of Atmosphere Product: \"L2A_T32UPU_20171014T102021_TCI_10m.jp2\"</li>\n",
    "        <li>Sentinel - 2 Top of Atmosphere Product: \"T32UPU_20171014T102021_TCI.jp2\"</li>\n",
    "        <li>Planet Scope: \"20171014T093135_SurfaceReflectance.tif\", \"20171014T093135_Radiance.tif\"</li>\n",
    "        <li>Landsat - 8: \"LC08_L1TP_194026_20171015_20171024_01_T1_sr_band1.tif, LC08_L1TP_194026_20171015_20171024_01_T1_sr_band2.tif, LC08_L1TP_194026_20171015_20171024_01_T1_sr_band3.tif, LC08_L1TP_194026_20171015_20171024_01_T1_sr_band4.tif\"</li>\n",
    "        <li>World View - 3: \"15JUN06103525-M2AS-054480230010_01_P001.tif\"</li>\n",
    "        <li>EnMap: \"L2_af060722.bsq, L2_af060722.hdr\"</li>\n",
    "    </ul> \n",
    "</ul>\n",
    "\n",
    "<p><b>Tasks:</b> Load all raster files and compare their characteristics in terms of geometry, pixel values, pixel size, bands and dimentions. Perform a geometric correction on the EnMap raster using the other files as reference files.</p> "
   ]
  },
  {
   "cell_type": "markdown",
   "metadata": {},
   "source": [
    "<img align=\"center\" src=\"img/img_p9_wf.png\" width=\"900\"/>"
   ]
  },
  {
   "cell_type": "markdown",
   "metadata": {},
   "source": [
    "<h2>Procedure: \n",
    "    in QGIS</h2>"
   ]
  },
  {
   "cell_type": "markdown",
   "metadata": {},
   "source": [
    "<h3>Install Plugins</h3>"
   ]
  },
  {
   "cell_type": "markdown",
   "metadata": {},
   "source": [
    "1. Install the following plugins under QGIS:  \n",
    " - \"Georeferencer GDAL\"  "
   ]
  },
  {
   "cell_type": "markdown",
   "metadata": {},
   "source": [
    "<h3>Load reference data</h3>"
   ]
  },
  {
   "cell_type": "markdown",
   "metadata": {},
   "source": [
    "2. Load Raster products from the following sensors/providers:  \n",
    " - PlanetScope  \n",
    " - Sentinel-2 L1C  \n",
    " - Sentinel-2 L2A  "
   ]
  },
  {
   "cell_type": "markdown",
   "metadata": {},
   "source": [
    "3. Visualize your data and compare. What are the differences among these datasets? "
   ]
  },
  {
   "cell_type": "code",
   "execution_count": null,
   "metadata": {},
   "outputs": [],
   "source": []
  },
  {
   "cell_type": "markdown",
   "metadata": {},
   "source": [
    "4. Which Projection have those files?"
   ]
  },
  {
   "cell_type": "code",
   "execution_count": null,
   "metadata": {},
   "outputs": [],
   "source": []
  },
  {
   "cell_type": "markdown",
   "metadata": {},
   "source": [
    "<h3>Load image to be georeferenced</h3>"
   ]
  },
  {
   "cell_type": "markdown",
   "metadata": {},
   "source": [
    "5. Open <code>Raster > Georeferencer</code>. In the new window under <code>File > Open Raster</code>, load the file \"L2_af060722.bsq\". Visualize the image.  \n",
    "Describe the properties of this image. How different it is from the rest?"
   ]
  },
  {
   "cell_type": "code",
   "execution_count": null,
   "metadata": {},
   "outputs": [],
   "source": []
  },
  {
   "cell_type": "markdown",
   "metadata": {},
   "source": [
    "<p>6. In the <code>Transformation settings</code> dialog, choose the <code>Transformation type</code> as Polynomial 2. See <a href = \"https://docs.qgis.org/3.4/en/docs/user_manual/plugins/core_plugins/plugins_georeferencer.html#available-transformation-algorithms\">QGIS Documentation </a> to learn about different transformation types and their uses. Click <code>Target SRS</code> to select the right CRS to transform the image.  \n",
    "For more information on compression types, check this <a href = \"https://digital-geography.com/geotiff-compression-comparison/\">source. </a></p>"
   ]
  },
  {
   "cell_type": "markdown",
   "metadata": {},
   "source": [
    "<img align=\"center\" src=\"img/img_p9_georef1.png\" width=\"900\"/>"
   ]
  },
  {
   "cell_type": "markdown",
   "metadata": {},
   "source": [
    "<h3>Add Ground Control Points (GCP) and transform</h3>"
   ]
  },
  {
   "cell_type": "markdown",
   "metadata": {},
   "source": [
    "<p>7. Click <code>Add Point</code>. This will allow you to click on the raster to be referenced. Afterwards, you can choose the same point in the reference raster by clicking <code>From map canvas</code>. This process is called ground-truthing.</p>"
   ]
  },
  {
   "cell_type": "markdown",
   "metadata": {},
   "source": [
    "<img align=\"center\" src=\"img/img_p9_georef2.png\" width=\"900\"/>"
   ]
  },
  {
   "cell_type": "markdown",
   "metadata": {},
   "source": [
    "8. The GCP table accumulates one row with details for every GCP. Add at least 10 GCPs covering the entire image. The more points you have, the more accurate your image is registered to the target coordinates. The Polynomial 2 transform requires at least 6 GCPs. It is also important that the GCPs are dispersed throughout the whole image."
   ]
  },
  {
   "cell_type": "markdown",
   "metadata": {},
   "source": [
    "<img align=\"center\" src=\"img/img_p9_georef3.png\" width=\"700\"/>"
   ]
  },
  {
   "cell_type": "markdown",
   "metadata": {},
   "source": [
    "<p>9. Once you have added the minimum number of points required for the transform, dX, dY and Residual error values are calculated. Check the errors (Residuals) for high values which indicate that a GCP was wrongly taken. When you are satisfied with the GCPs, go to <code>File > Start georeferencing</code>. This will start the process of warping the image using the GCPs and creating the target raster.  \n",
    "You can click on <code>Save GCP points as</code> if you want to save your table.</p>"
   ]
  },
  {
   "cell_type": "markdown",
   "metadata": {},
   "source": [
    "<img align=\"center\" src=\"img/img_p9_georef4.png\" width=\"900\"/>"
   ]
  },
  {
   "cell_type": "markdown",
   "metadata": {},
   "source": [
    "10. Check your reprojected raster. Is it correctly transformed? If not, which solutions could you implement?"
   ]
  },
  {
   "cell_type": "code",
   "execution_count": null,
   "metadata": {},
   "outputs": [],
   "source": []
  },
  {
   "cell_type": "markdown",
   "metadata": {},
   "source": [
    "<div style=\"text-align: right\"> <small>This tutorial was prepared with the support from Gabriel Cevallos. June 2020</small> </div>"
   ]
  }
 ],
 "metadata": {
  "kernelspec": {
   "display_name": "Python 3",
   "language": "python",
   "name": "python3"
  },
  "language_info": {
   "codemirror_mode": {
    "name": "ipython",
    "version": 3
   },
   "file_extension": ".py",
   "mimetype": "text/x-python",
   "name": "python",
   "nbconvert_exporter": "python",
   "pygments_lexer": "ipython3",
   "version": "3.7.11"
  }
 },
 "nbformat": 4,
 "nbformat_minor": 4
}
