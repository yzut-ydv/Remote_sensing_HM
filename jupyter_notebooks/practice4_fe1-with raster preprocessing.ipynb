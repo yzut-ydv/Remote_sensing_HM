{
 "cells": [
  {
   "cell_type": "markdown",
   "metadata": {},
   "source": [
    "<img align=\"right\" width=\"240\" height=\"240\" src=\"img/HS_Mu__nchen_Logo.png\"/>"
   ]
  },
  {
   "cell_type": "markdown",
   "metadata": {},
   "source": [
    "<style>\n",
    "p.small {\n",
    "  line-height: 1;\n",
    "}\n",
    "</style>\n",
    "<body>\n",
    "    \n",
    "<p class=\"small\"> <b>Geoinformatics | Course Remote Sensing (1)</b><br> <small>Schmitt | Ulloa</small><br> <small>Summer Semester 2021</small><br></p>"
   ]
  },
  {
   "cell_type": "markdown",
   "metadata": {},
   "source": [
    "<h1>Practice 4: Unsupervised classification Part I</h1>"
   ]
  },
  {
   "cell_type": "markdown",
   "metadata": {},
   "source": [
    "<h2>Overview</h2>"
   ]
  },
  {
   "cell_type": "markdown",
   "metadata": {},
   "source": [
    "<p class=\"main\"><b>Objectives:</b> Perform an unsupervised classification of your AOI, on a multiband image data using Python you need GDAL, Numpy and Sklearn.</p>\n",
    "\n",
    "<p><b>Data:</b> For this practice, use the following files: </p>\n",
    "\n",
    "<p class=\"data\"></p>\n",
    "<ul>\n",
    "    <li> Raster product: Sentinel 2 clipped rasterstack for the Forggensee</li> \n",
    "</ul>\n",
    "\n",
    "<p><b>Tasks:</b> load your rasterfile in QGIS and crop it. Later on, load it in Python and perform an unsupervised classification. Export the classification file and visualize it.</p> \n"
   ]
  },
  {
   "cell_type": "markdown",
   "metadata": {},
   "source": [
    "<h2>Procedure</h2>"
   ]
  },
  {
   "cell_type": "markdown",
   "metadata": {},
   "source": [
    "<p>In order to crop your Sentinel raster to your Area of Interest (AOI), you would have to load first all necessary bands into QGIS, as well as the shapefile (id_1.shp).</p>  \n",
    "\n",
    "<p>For this course, we will work with bands RED, GREEN, BLUE and NIR. Load the corresponding bands into QGIS, and crop against the shapefile using the <code>Raster > Extraction > Clip Raster by Extent</code>.</p>"
   ]
  },
  {
   "cell_type": "markdown",
   "metadata": {},
   "source": [
    "<img src=\"img/img_p4_crop_qgis.png\" width=\"700\"/>"
   ]
  },
  {
   "cell_type": "markdown",
   "metadata": {},
   "source": [
    "1. Which Sentinel-2 bands correspond to RED, GREEN, BLUE and NIR?"
   ]
  },
  {
   "cell_type": "code",
   "execution_count": null,
   "metadata": {},
   "outputs": [],
   "source": []
  },
  {
   "cell_type": "markdown",
   "metadata": {},
   "source": [
    "2. What are the differences between band 5 and band 8?"
   ]
  },
  {
   "cell_type": "code",
   "execution_count": null,
   "metadata": {},
   "outputs": [],
   "source": []
  },
  {
   "cell_type": "markdown",
   "metadata": {},
   "source": [
    "3. What are the differences between band 8 and band 8A?"
   ]
  },
  {
   "cell_type": "code",
   "execution_count": null,
   "metadata": {},
   "outputs": [],
   "source": []
  },
  {
   "cell_type": "markdown",
   "metadata": {},
   "source": [
    "4. What does L1C in the label of the Sentinel data mean?"
   ]
  },
  {
   "cell_type": "code",
   "execution_count": null,
   "metadata": {},
   "outputs": [],
   "source": []
  },
  {
   "cell_type": "markdown",
   "metadata": {},
   "source": [
    "<p>After you have cropped all bands, you will create a RasterStack. For thi purpose, you can use the <code>Raster > Miscellaneous > Merge tools</code>.</p> \n",
    "\n",
    "<img src=\"img/img_p4_stack_qgis.png\" width=\"400\"/>"
   ]
  },
  {
   "cell_type": "markdown",
   "metadata": {},
   "source": [
    "5. Try the Merge function without selecting the option \"Place each input file into a separate band\". What happens? How is the resultant image? "
   ]
  },
  {
   "cell_type": "code",
   "execution_count": null,
   "metadata": {},
   "outputs": [],
   "source": []
  },
  {
   "cell_type": "markdown",
   "metadata": {},
   "source": [
    "<h4>Load and visualize raster</h4>"
   ]
  },
  {
   "cell_type": "markdown",
   "metadata": {},
   "source": [
    "Later on, load your cropped RasterStack into Python. In order to visualize your data you will need the Matplotlib libraries."
   ]
  },
  {
   "cell_type": "code",
   "execution_count": null,
   "metadata": {},
   "outputs": [],
   "source": [
    "import matplotlib.pyplot as plt\n",
    "%matplotlib inline\n",
    "from matplotlib.patches import Patch\n",
    "from matplotlib.colors import ListedColormap\n",
    "import matplotlib.colors as colors"
   ]
  },
  {
   "cell_type": "markdown",
   "metadata": {},
   "source": [
    "These are the libraries we are going to use to read and write our imagery and prediction rasters"
   ]
  },
  {
   "cell_type": "code",
   "execution_count": null,
   "metadata": {},
   "outputs": [],
   "source": [
    "#from osgeo import gdal, gdal_array\n",
    "import os\n",
    "import rasterio as rio\n",
    "import numpy as np\n",
    "from rasterio.plot import show\n",
    "from rasterio.plot import plotting_extent"
   ]
  },
  {
   "cell_type": "markdown",
   "metadata": {},
   "source": [
    "<p>6. Read your rasterstack using the function <code>open</code> from the package rio(rasterio). Assign your raster to an object called \"s2_stack\". Remeber to specify first the path where your data is located. Store your path in an object called \"folder_src\".</p>"
   ]
  },
  {
   "cell_type": "code",
   "execution_count": null,
   "metadata": {},
   "outputs": [],
   "source": []
  },
  {
   "cell_type": "markdown",
   "metadata": {},
   "source": [
    "<p>To check that you loaded your raster, you can print some of the properties of that raster. Check here the number of bands.</p>"
   ]
  },
  {
   "cell_type": "code",
   "execution_count": null,
   "metadata": {},
   "outputs": [],
   "source": []
  },
  {
   "cell_type": "markdown",
   "metadata": {},
   "source": [
    "<p>7. Apply the necessary functions (see Practice 1) to extract the name, dimensions and resolution of your raster.</p>"
   ]
  },
  {
   "cell_type": "code",
   "execution_count": null,
   "metadata": {},
   "outputs": [],
   "source": []
  },
  {
   "cell_type": "markdown",
   "metadata": {},
   "source": [
    "<h4>Plot a single band: NIR</h4>\n",
    "<p>Let's make a visualization of one band from your RasterStack, in this case the NIR band</p>"
   ]
  },
  {
   "cell_type": "code",
   "execution_count": null,
   "metadata": {},
   "outputs": [],
   "source": [
    "#Plot Band NIR\n",
    "fig,ax = plt.subplots(figsize=(20,20))\n",
    "nirNpArray = s2_stack.read(4)\n",
    "ax.set_title(\"NIR-Band\")\n",
    "# Be careful Numpy Array indexes start at zero!\n",
    "#This command equals the one we used before to visualize band 4 using the show() function from rasterio\n",
    "plot=ax.imshow(nirNpArray, cmap='magma')\n",
    "plt.colorbar(plot,shrink=0.6)\n",
    "plt.show()"
   ]
  },
  {
   "cell_type": "markdown",
   "metadata": {},
   "source": [
    "<p>8. Change the settings of the previous function with the following values:\n",
    "    <ul>\n",
    "        <li>figsize=(5,5)</li>\n",
    "        <li>plt.colorbar(plot,shrink=1)</li></p>"
   ]
  },
  {
   "cell_type": "code",
   "execution_count": null,
   "metadata": {},
   "outputs": [],
   "source": []
  },
  {
   "cell_type": "markdown",
   "metadata": {},
   "source": [
    "<p>9. Explain the purpose of the parameters <code>figsize</code> and <code>shrink</code></p>"
   ]
  },
  {
   "cell_type": "code",
   "execution_count": null,
   "metadata": {},
   "outputs": [],
   "source": []
  },
  {
   "cell_type": "markdown",
   "metadata": {},
   "source": [
    "<p>10. <code>cmap</code> is a parameter that defines some defined color scales for maps in the matplotlib package. Using the information on the next image, choose another color scale and change the color of your map.</p>\n",
    "\n",
    "<img src=\"img/img_p4_cmap_colormap.png\" width=\"700\"/>"
   ]
  },
  {
   "cell_type": "code",
   "execution_count": null,
   "metadata": {},
   "outputs": [],
   "source": []
  },
  {
   "cell_type": "markdown",
   "metadata": {},
   "source": [
    "<p>11. Using the previous line code, plot the bands BLUE and GREEN. Remember to update the title with the command <code>ax.set_title(\"your title\")</code> </p>"
   ]
  },
  {
   "cell_type": "code",
   "execution_count": null,
   "metadata": {},
   "outputs": [],
   "source": []
  },
  {
   "cell_type": "markdown",
   "metadata": {},
   "source": [
    "<p>12. Now we want to take a look at the structure of the RasterStack with a function you will use afterwards. Use the function <code>shape</code> to extract the information of the number of columns and rows of your rasterstack (hint: name_of_your_raster.shape)</p>"
   ]
  },
  {
   "cell_type": "code",
   "execution_count": null,
   "metadata": {},
   "outputs": [],
   "source": []
  },
  {
   "cell_type": "markdown",
   "metadata": {},
   "source": [
    "<p>13. Please explain the meaning of the values from the result of the function <code>shape</code>. Which other functions so far in this practice have returned the same values?</p>"
   ]
  },
  {
   "cell_type": "code",
   "execution_count": null,
   "metadata": {},
   "outputs": [],
   "source": []
  },
  {
   "cell_type": "markdown",
   "metadata": {},
   "source": [
    "<p>Now we will use the previous function and store the NIR band in an object called \"band\". This object will be turned into a vector for the classification purposes in the next step</p>"
   ]
  },
  {
   "cell_type": "code",
   "execution_count": null,
   "metadata": {},
   "outputs": [],
   "source": [
    "# Create an object called \"band\" that stores the 4th value of your rasterstack = NIR band\n",
    "band = s2_stack.read(4)\n",
    "band.shape"
   ]
  },
  {
   "cell_type": "markdown",
   "metadata": {},
   "source": [
    "NOTE: for more information about the color scales, visit: https://matplotlib.org/tutorials/colors/colormaps.html\n",
    "            "
   ]
  },
  {
   "cell_type": "markdown",
   "metadata": {},
   "source": [
    "<h4>Perform unsupervised classification with k-means algorithm on NIR band</h4>"
   ]
  },
  {
   "cell_type": "code",
   "execution_count": null,
   "metadata": {},
   "outputs": [],
   "source": [
    "#Make linear vector for Sci-Kit Learn\n",
    "X = band.reshape((-1,1))\n",
    "print ('linear Vector:',X.shape)\n",
    "\n",
    "# Lets use our classification Algorithm with 8 clusters.\n",
    "# The kmeans classification of the NIR band will be stored in the object \"kmeans_nir\"\n",
    "k_means = cluster.KMeans(n_clusters=6, max_iter=1000)\n",
    "k_means.fit(X)\n",
    "# Lets write and reshape our results into the original image dimensions\n",
    "X_NIR = k_means.labels_\n",
    "X_NIR = X_NIR.reshape(band.shape)\n",
    "print ('reshaped vector:',X_NIR.shape)"
   ]
  },
  {
   "cell_type": "code",
   "execution_count": null,
   "metadata": {},
   "outputs": [],
   "source": [
    "#Lets plot the Results\n",
    "fig,ax = plt.subplots(figsize=(20,20))\n",
    "ax.set_title(\"K-Means Classification Result (one band: NIR)\")\n",
    "plot=ax.imshow(X_NIR, cmap=plt.cm.get_cmap('Set3', 6))\n",
    "#plot.clim(-0.5, 2.5)\n",
    "plt.colorbar(plot, ticks=[0, 1, 2, 3, 4, 5],shrink=0.6)\n",
    "\n",
    "plt.show()"
   ]
  },
  {
   "cell_type": "markdown",
   "metadata": {},
   "source": [
    "<p>14. Run again the unsupervised classification. This time use 5 clusters instead of 8. Plot your results   \n",
    "    (hint: modify and adapt  \n",
    "    <code>k_means = cluster.KMeans(n_clusters=8);    \n",
    "    plot=ax.imshow(X_NIR, cmap=plt.cm.get_cmap('Set3', 8));   \n",
    "    plt.colorbar(plot, ticks=[0, 1, 2, 3, 4, 5, 6, 7],shrink=0.6)</code>)</p>"
   ]
  },
  {
   "cell_type": "code",
   "execution_count": null,
   "metadata": {},
   "outputs": [],
   "source": []
  },
  {
   "cell_type": "markdown",
   "metadata": {},
   "source": [
    "<p>15. Which differences can you see among the unsupervised classification with 8 clusters vs 5 clusters? What does the clusters mean?</p>"
   ]
  },
  {
   "cell_type": "code",
   "execution_count": null,
   "metadata": {},
   "outputs": [],
   "source": []
  },
  {
   "cell_type": "markdown",
   "metadata": {},
   "source": [
    "<p>16. Repeat the previous procedure with 2 clusters. How accurate is the classification?</p>"
   ]
  },
  {
   "cell_type": "code",
   "execution_count": null,
   "metadata": {},
   "outputs": [],
   "source": []
  },
  {
   "cell_type": "markdown",
   "metadata": {},
   "source": [
    "<p>17. Based on the previous plot with 2 clusters, can you properly classify the raster band? In other words, are all landclasses represented in the classification output?</p>"
   ]
  },
  {
   "cell_type": "code",
   "execution_count": null,
   "metadata": {},
   "outputs": [],
   "source": []
  },
  {
   "cell_type": "markdown",
   "metadata": {},
   "source": [
    "<p>18. Based on the previous plot with 2 clusters, which is the minimum of clusters to choose in order to address all landclasses from your raster band?</p>"
   ]
  },
  {
   "cell_type": "code",
   "execution_count": null,
   "metadata": {},
   "outputs": [],
   "source": []
  },
  {
   "cell_type": "markdown",
   "metadata": {},
   "source": [
    "<h4>Perform unsupervised classification with k-means algorithm on the whole Rasterstack (4 bands)</h4>\n",
    "\n",
    "<p>Now you will apply everything you learned about kmeans classification on a RasterStack. Previously you did this for only one band: the NIR band. The procedure is similar, instead of 1 band, you will use now 4.</p>"
   ]
  },
  {
   "cell_type": "code",
   "execution_count": null,
   "metadata": {},
   "outputs": [],
   "source": [
    "# First we have to write all 4 bands \n",
    "stack = s2_stack.read()\n",
    "print('Rasterio read multiband image shape equals',stack.shape)\n",
    "s2_stack.meta[\"dtype\"]\n",
    "\n",
    "# Be careful Numpy Array indexes start at zero!\n",
    "stack= np.zeros([stack.shape[1],stack.shape[2],stack.shape[0]],s2_stack.meta[\"dtype\"])\n",
    "print(\"Our desired format is\",stack.shape)"
   ]
  },
  {
   "cell_type": "code",
   "execution_count": null,
   "metadata": {},
   "outputs": [],
   "source": [
    "for b in range(stack.shape[2]):\n",
    "    # Let's print the band indexes\n",
    "    # Be careful Numpy Array indexes start at zero!\n",
    "    print(b)\n",
    "    stack[:, :, b] = s2_stack.read(b+1)"
   ]
  },
  {
   "cell_type": "markdown",
   "metadata": {},
   "source": [
    "<p>19. What does (4, 228, 355) mean? Hint: see question 12 or 13</p>"
   ]
  },
  {
   "cell_type": "code",
   "execution_count": null,
   "metadata": {},
   "outputs": [],
   "source": []
  },
  {
   "cell_type": "markdown",
   "metadata": {},
   "source": [
    "<p>To help you visualize all the bands that will be classified, you can use the  command <code>plt.imshow(stack[:,:,0], cmap='')</code></p>"
   ]
  },
  {
   "cell_type": "markdown",
   "metadata": {},
   "source": [
    "<p>20. Adapt the following code to write the correct labels in the x,y axis and the title depending on the case.</p>"
   ]
  },
  {
   "cell_type": "code",
   "execution_count": null,
   "metadata": {},
   "outputs": [],
   "source": [
    "fig, axes = plt.subplots(2,2, figsize=(20,15), sharex=True, sharey=True)\n",
    "# Be careful Numpy Array indexes start at zero!\n",
    "\n",
    "plt.sca(axes[0,0])\n",
    "plt.imshow(stack[:,:,0], cmap='Blues')\n",
    "plt.colorbar(shrink=0.9)\n",
    "plt.title('Blue Band')\n",
    "plt.xlabel('Column number')\n",
    "plt.ylabel('Row number')\n",
    "\n",
    "plt.sca(axes[0,1])\n",
    "plt.imshow(stack[:,:,1], cmap='Greens')\n",
    "plt.colorbar(shrink=0.9)\n",
    "plt.title('')\n",
    "plt.xlabel('')\n",
    "plt.ylabel('')\n",
    "\n",
    "plt.sca(axes[1,0])\n",
    "plt.imshow(stack[:,:,2], cmap='Reds')\n",
    "plt.colorbar(shrink=0.9)\n",
    "plt.title('')\n",
    "plt.xlabel('')\n",
    "plt.ylabel('')\n",
    "\n",
    "#This command equals the one we used before to visualize band 4 using the show() function from rasterio\n",
    "plt.sca(axes[1,1])\n",
    "plt.imshow(stack[:,:,3], cmap='Purples')\n",
    "plt.colorbar(shrink=0.9)\n",
    "plt.title('')\n",
    "plt.xlabel('')\n",
    "plt.ylabel('')"
   ]
  },
  {
   "cell_type": "markdown",
   "metadata": {},
   "source": [
    "<p>Now starts the classification code.</p>"
   ]
  },
  {
   "cell_type": "code",
   "execution_count": 12,
   "metadata": {},
   "outputs": [
    {
     "name": "stdout",
     "output_type": "stream",
     "text": [
      "The new dimensions are (80940, 4)\n"
     ]
    }
   ],
   "source": [
    "# Now lets reshape our stack into 4 linear vectors like the one we had before\n",
    "# First we are going to calculate the dimnesions\n",
    "new_shape = (stack.shape[0] * stack.shape[1], stack.shape[2])\n",
    "print('The new dimensions are',new_shape)"
   ]
  },
  {
   "cell_type": "code",
   "execution_count": 13,
   "metadata": {},
   "outputs": [],
   "source": [
    "# Secondly we can use the calculated shape\n",
    "X = stack[:, :, :4].reshape(new_shape)"
   ]
  },
  {
   "cell_type": "code",
   "execution_count": 14,
   "metadata": {},
   "outputs": [],
   "source": [
    "#Now we can use k_means like we did before\n",
    "k_means = cluster.KMeans(n_clusters=8)\n",
    "k_means.fit(X)\n",
    "\n",
    "X_cluster = k_means.labels_\n",
    "# and reshape it\n",
    "X_cluster = X_cluster.reshape(stack[:, :, 0].shape)"
   ]
  },
  {
   "cell_type": "code",
   "execution_count": 15,
   "metadata": {},
   "outputs": [
    {
     "data": {
      "text/plain": [
       "Text(0, 0.5, 'Row number')"
      ]
     },
     "execution_count": 15,
     "metadata": {},
     "output_type": "execute_result"
    },
    {
     "data": {
      "image/png": "[encoded data removed]",
      "text/plain": [
       "<Figure size 1440x1440 with 4 Axes>"
      ]
     },
     "metadata": {
      "needs_background": "light"
     },
     "output_type": "display_data"
    }
   ],
   "source": [
    "#Now lets plot our multiband classification together with the classfication if the NIR-Band\n",
    "fig, axes = plt.subplots(1,2, figsize=(20, 20), sharex=True, sharey=True)\n",
    "\n",
    "plt.sca(axes[0])\n",
    "plt.imshow(X_NIR, cmap=plt.cm.get_cmap('Set3', 8))\n",
    "plt.colorbar(ticks=[0, 1, 2, 3, 4, 5, 6, 7],shrink=0.3)\n",
    "plt.title(\"K-Means Classification Result (one band: NIR)\")\n",
    "plt.xlabel('Column number')\n",
    "plt.ylabel('Row number')\n",
    "\n",
    "plt.sca(axes[1])\n",
    "plt.imshow(X_cluster, cmap=plt.cm.get_cmap('Set3', 8))\n",
    "plt.colorbar(ticks=[0, 1, 2, 3, 4, 5, 6, 7],shrink=0.3)\n",
    "plt.title(\"K-Means Classification Result (multi-band)\")\n",
    "plt.xlabel('Column number')\n",
    "plt.ylabel('Row number')\n"
   ]
  },
  {
   "cell_type": "markdown",
   "metadata": {},
   "source": [
    "Export results"
   ]
  },
  {
   "cell_type": "code",
   "execution_count": null,
   "metadata": {},
   "outputs": [],
   "source": []
  },
  {
   "cell_type": "markdown",
   "metadata": {},
   "source": [
    "<p>21. Repeat the unsupervised (kmeans) classification of the Rasterstack with the right number of clusters based on the landclasses that you recognize.</p>"
   ]
  },
  {
   "cell_type": "code",
   "execution_count": null,
   "metadata": {},
   "outputs": [],
   "source": []
  },
  {
   "cell_type": "markdown",
   "metadata": {},
   "source": [
    "<div style=\"text-align: right\"> <small>This tutorial was prepared with the support from Gabriel Cevallos. May 2020</small> </div>"
   ]
  }
 ],
 "metadata": {
  "kernelspec": {
   "display_name": "Python 3",
   "language": "python",
   "name": "python3"
  },
  "language_info": {
   "codemirror_mode": {
    "name": "ipython",
    "version": 3
   },
   "file_extension": ".py",
   "mimetype": "text/x-python",
   "name": "python",
   "nbconvert_exporter": "python",
   "pygments_lexer": "ipython3",
   "version": "3.7.10"
  }
 },
 "nbformat": 4,
 "nbformat_minor": 4
}
