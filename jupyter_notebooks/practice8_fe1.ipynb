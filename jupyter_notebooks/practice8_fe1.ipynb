{
 "cells": [
  {
   "cell_type": "markdown",
   "metadata": {},
   "source": [
    "<img align=\"right\" width=\"240\" height=\"240\" src=\"img/HS_Mu__nchen_Logo.png\"/>"
   ]
  },
  {
   "cell_type": "markdown",
   "metadata": {},
   "source": [
    "<style>\n",
    "p.small {\n",
    "  line-height: 1;\n",
    "}\n",
    "</style>\n",
    "<body>\n",
    "    \n",
    "<p class=\"small\"> <b>Geoinformatics | Course Remote Sensing (1)</b><br> <small>Schmitt | Ulloa</small><br> <small>Summer Semester 2020</small><br></p>"
   ]
  },
  {
   "cell_type": "markdown",
   "metadata": {},
   "source": [
    "<h1>Practice 8: Pre-processing of raster data II - Radiometric Correction</h1>"
   ]
  },
  {
   "cell_type": "markdown",
   "metadata": {},
   "source": [
    "<h2>Overview</h2>"
   ]
  },
  {
   "cell_type": "markdown",
   "metadata": {},
   "source": [
    "<p class=\"main\"><b>Objectives:</b> Perform a radiometric correction on Sentinel-2 data. Read spectral signatures on S2-Rasterstack and S1-S2-Rasterstacks.</p>\n",
    "\n",
    "<p><b>Data:</b> For this practice, use the following files: </p>\n",
    "\n",
    "<p class=\"data\"></p>\n",
    "<ul>\n",
    "    <li> Raster files:</li>\n",
    "    <ul>\n",
    "        <li> Sentinel 2-A bands [2,3,4,8] subset in Digital Numbers (this file is not related to the others you have used for the practices in this semester, even though it covers the same area).</li>\n",
    "        <li> Sentinel 1 georeferenced and geocalibrated image. </li>\n",
    "    </ul> \n",
    "    <li> Vector file: shapefile of landclasses for AOI-2</li>\n",
    "</ul>\n",
    "\n",
    "<p><b>Tasks:</b> Calibrate the satellite images from digital number to reflectance values. Calculate the logarithm and scale the reflectance values into the unit decibel. Create a S2 Rasterstack and a S1-S2 Rasterstack. Crop to a desired extent. Read the spectral signatures of your polygons using both Rasterstacks. Analyze the differences.</p> "
   ]
  },
  {
   "cell_type": "markdown",
   "metadata": {},
   "source": [
    "<img align=\"center\" src=\"img/img_p8_wf.png\" width=\"900\"/>"
   ]
  },
  {
   "cell_type": "markdown",
   "metadata": {},
   "source": [
    "<h2>Procedure: \n",
    "    in QGIS</h2>"
   ]
  },
  {
   "cell_type": "markdown",
   "metadata": {},
   "source": [
    "<h3>Install Plugins</h3>"
   ]
  },
  {
   "cell_type": "markdown",
   "metadata": {},
   "source": [
    "1. Install the following plugins for QGIS:\n",
    " * “Semi-Automatic Classification Plugin”\n",
    " * “Temporal/Spectral Profile Tool”\n"
   ]
  },
  {
   "cell_type": "markdown",
   "metadata": {},
   "source": [
    "2. Load your Sentinel-2 bands [2,3,4,8] in QGIS. Check the properties. Run a histogram of every band. Which is the value range of your data? "
   ]
  },
  {
   "cell_type": "code",
   "execution_count": null,
   "metadata": {},
   "outputs": [],
   "source": []
  },
  {
   "cell_type": "markdown",
   "metadata": {},
   "source": [
    "3. In which unit are the Sentinel-2 bands [2,3,4,8]? "
   ]
  },
  {
   "cell_type": "code",
   "execution_count": null,
   "metadata": {},
   "outputs": [],
   "source": []
  },
  {
   "cell_type": "markdown",
   "metadata": {},
   "source": [
    "4. What is the radiometric sampling of these bands? Hint: see lecture, slide 13/36. "
   ]
  },
  {
   "cell_type": "code",
   "execution_count": null,
   "metadata": {},
   "outputs": [],
   "source": []
  },
  {
   "cell_type": "markdown",
   "metadata": {},
   "source": [
    "5. Convert your Sentinel-2 bands from DN to reflectance (R) using the formula:   \n",
    "\n",
    "    $$reflectance = DN / 10000$$"
   ]
  },
  {
   "cell_type": "markdown",
   "metadata": {},
   "source": [
    "<p>Use the <code>Raster > Raster Calculator</code> (Rasterrechner) or the SCP tool for this. Please pay attention that format, name, location of exported file, formula and projection are correct.</p>  "
   ]
  },
  {
   "cell_type": "markdown",
   "metadata": {},
   "source": [
    "<img align=\"center\" src=\"img/img_p8_rastercalc.png\" width=\"700\"/>"
   ]
  },
  {
   "cell_type": "markdown",
   "metadata": {},
   "source": [
    "6. What is the new radiometric sampling of your Sentinel bands? What does it mean? "
   ]
  },
  {
   "cell_type": "code",
   "execution_count": null,
   "metadata": {},
   "outputs": [],
   "source": []
  },
  {
   "cell_type": "markdown",
   "metadata": {},
   "source": [
    "7. Afterwards, in the same environment, translate your Sentinel-2 bands from reflectance to dB units. Use any of the following formulae:  \n",
    "\n",
    " $$R_{[dB]} = 10 * log(R)=10  \\bigg( \\frac{ln R}{ln 10} \\bigg) = 10*log(DN) - 40 = 10 \\bigg( \\frac{ln DN }{ln 10} \\bigg)  - 40$$"
   ]
  },
  {
   "cell_type": "markdown",
   "metadata": {},
   "source": [
    "8. Load the already calibrated and geocoded Sentinel 1 Scene in QGIS. This product subset contains backscattering intensity bands VV and VH.  \n",
    "Check in the properties the distribution of the pixel values. Describe. How many bands do you have?  What is the radiometric sampling? "
   ]
  },
  {
   "cell_type": "code",
   "execution_count": null,
   "metadata": {},
   "outputs": [],
   "source": []
  },
  {
   "cell_type": "markdown",
   "metadata": {},
   "source": [
    "9. Translate your Sentinel-1 image into decibel units in the Raster Calculator, using the following formula:  (please also refer to lecture, slide 28, formula 13)  \n",
    "\n",
    "$$ I_{[dB]} = 10 * \\frac{ln I_{[linear]}}{ln 10}$$ "
   ]
  },
  {
   "cell_type": "markdown",
   "metadata": {},
   "source": [
    "What is the range of values of each S2 band and of the S1 rasterstack in dB? What is the normal range of dB values? (see lecture)"
   ]
  },
  {
   "cell_type": "code",
   "execution_count": null,
   "metadata": {},
   "outputs": [],
   "source": []
  },
  {
   "cell_type": "markdown",
   "metadata": {},
   "source": [
    "<p>10. Perform a Rasterstack of bands 2,3,4,8 of Sentinel-2 in reflectance. Use the <code>Merge</code> function to be found on <code>Raster > Miscellaneous > Merge</code>. IMPORTANT: make sure you specify where to save your file and mark the box 'Place each input file into a separate band', otherwise you will get an error.</p>"
   ]
  },
  {
   "cell_type": "markdown",
   "metadata": {},
   "source": [
    "<img align=\"center\" src=\"img/img_p8_rastermerge.png\" width=\"700\"/>"
   ]
  },
  {
   "cell_type": "markdown",
   "metadata": {},
   "source": [
    "11. Perform a Rasterstack of the following bands: S1-Rasterstack + S2-bands 2,3,4,8 in dB units. "
   ]
  },
  {
   "cell_type": "markdown",
   "metadata": {},
   "source": [
    "12. Load your new Rasterstacks in QGIS. Explore their properties.  \n",
    " * What is the number of bands for each Rasterstack? \n",
    " * Which band is located in every Rasterstack?\n",
    " * What is the radiometric sampling of both Rasterstacks?\n",
    " * In which units are the values of both Rasterstacks?"
   ]
  },
  {
   "cell_type": "code",
   "execution_count": null,
   "metadata": {},
   "outputs": [],
   "source": []
  },
  {
   "cell_type": "markdown",
   "metadata": {},
   "source": [
    "13. Take a look at the values range of the S2 - RasterStack in reflectance. Reflectance values range from 0-1. Why is there an error? How could you eliminate it? "
   ]
  },
  {
   "cell_type": "code",
   "execution_count": null,
   "metadata": {},
   "outputs": [],
   "source": []
  },
  {
   "cell_type": "markdown",
   "metadata": {},
   "source": [
    "14. Using the Symbology section of Properties, mask out all pixels $\\leq 1$. Use a Singleband, pseudocolor."
   ]
  },
  {
   "cell_type": "markdown",
   "metadata": {},
   "source": [
    "<img align=\"center\" src=\"img/img_p8_errorpixel.png\" width=\"900\"/>"
   ]
  },
  {
   "cell_type": "markdown",
   "metadata": {},
   "source": [
    "15. Load in QGIS the shapefile with traning data. "
   ]
  },
  {
   "cell_type": "markdown",
   "metadata": {},
   "source": [
    "16. Analyze your  polygons or “ROIs” using the “Temporal/Spectral Profile Tool”."
   ]
  },
  {
   "cell_type": "code",
   "execution_count": null,
   "metadata": {},
   "outputs": [],
   "source": [
    "bild"
   ]
  },
  {
   "cell_type": "markdown",
   "metadata": {},
   "source": [
    "17. Which changes of the profiles can you observe after the calibration?"
   ]
  },
  {
   "cell_type": "code",
   "execution_count": null,
   "metadata": {},
   "outputs": [],
   "source": [
    "?? profile = histrogram? or in the spectral tool? in reflectance or dB?"
   ]
  },
  {
   "cell_type": "markdown",
   "metadata": {},
   "source": [
    "18. What is the effect of the improved georeferencing?"
   ]
  },
  {
   "cell_type": "code",
   "execution_count": null,
   "metadata": {},
   "outputs": [],
   "source": [
    "?? isnt it radiometric calibration?"
   ]
  },
  {
   "cell_type": "markdown",
   "metadata": {},
   "source": [
    "19. Can you see a difference between Sentinel-1 and Sentinel-2?"
   ]
  },
  {
   "cell_type": "code",
   "execution_count": null,
   "metadata": {},
   "outputs": [],
   "source": [
    "?? was this question already addressed?"
   ]
  },
  {
   "cell_type": "markdown",
   "metadata": {},
   "source": [
    "<p>20. Crop the Rasterstack of your choice to the extent of your working area or to the shape of the AOI-2. \n",
    "Use the functions <code>Raster > Extraction > Clip Raster by Extent / Clip Raster by Mask Layer</code>.</p>"
   ]
  },
  {
   "cell_type": "markdown",
   "metadata": {},
   "source": [
    "<img align=\"center\" src=\"img/img_p8_rasterclip.png\" width=\"900\"/>"
   ]
  },
  {
   "cell_type": "markdown",
   "metadata": {},
   "source": [
    "<div style=\"text-align: right\"> <small>This tutorial was prepared with the support from Gabriel Cevallos. June 2020</small> </div>"
   ]
  }
 ],
 "metadata": {
  "kernelspec": {
   "display_name": "Python 3",
   "language": "python",
   "name": "python3"
  },
  "language_info": {
   "codemirror_mode": {
    "name": "ipython",
    "version": 3
   },
   "file_extension": ".py",
   "mimetype": "text/x-python",
   "name": "python",
   "nbconvert_exporter": "python",
   "pygments_lexer": "ipython3",
   "version": "3.7.6"
  }
 },
 "nbformat": 4,
 "nbformat_minor": 4
}
