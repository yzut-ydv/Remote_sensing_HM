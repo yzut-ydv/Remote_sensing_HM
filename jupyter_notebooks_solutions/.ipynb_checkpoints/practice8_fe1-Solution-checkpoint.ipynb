{
 "cells": [
  {
   "cell_type": "markdown",
   "metadata": {},
   "source": [
    "<img align=\"right\" width=\"240\" height=\"240\" src=\"img/HS_Mu__nchen_Logo.png\"/>"
   ]
  },
  {
   "cell_type": "markdown",
   "metadata": {},
   "source": [
    "<style>\n",
    "p.small {\n",
    "  line-height: 1;\n",
    "}\n",
    "</style>\n",
    "<body>\n",
    "    \n",
    "<p class=\"small\"> <b>Geoinformatics | Course Remote Sensing (1)</b><br> <small>Schmitt | Ulloa</small><br> <small>Summer Semester 2020</small><br></p>"
   ]
  },
  {
   "cell_type": "markdown",
   "metadata": {},
   "source": [
    "<h1>Practice 8: Pre-processing of raster data II - Radiometric Correction</h1>"
   ]
  },
  {
   "cell_type": "markdown",
   "metadata": {},
   "source": [
    "<h2>Overview</h2>"
   ]
  },
  {
   "cell_type": "markdown",
   "metadata": {},
   "source": [
    "<p class=\"main\"><b>Objectives:</b> Perform a radiometric correction on Sentinel-2 data. Read spectral signatures on S2-Rasterstack and S1-S2-Rasterstacks.</p>\n",
    "\n",
    "<p><b>Data:</b> For this practice, use the following files: </p>\n",
    "\n",
    "<p class=\"data\"></p>\n",
    "<ul>\n",
    "    <li> Raster files:</li>\n",
    "    <ul>\n",
    "        <li> Sentinel 2-A bands [2,3,4,8] subset in Digital Numbers (this file is not related to the others you have used for the practices in this semester, even though it covers the same area).</li>\n",
    "        <li> Sentinel 1 georeferenced and geocalibrated image. </li>\n",
    "    </ul> \n",
    "    <li> Vector file: shapefiles of landclasses, shapefile for AOI-2.</li>\n",
    "</ul>\n",
    "\n",
    "<p><b>Tasks:</b> Calibrate the satellite images from digital number to reflectance values. Calculate the logarithm and scale the reflectance values into the unit decibel. Create a S2 Rasterstack and a S1-S2 Rasterstack. Crop to a desired extent. Read the spectral signatures of your polygons using both Rasterstacks. Analyze the differences.</p> "
   ]
  },
  {
   "cell_type": "markdown",
   "metadata": {},
   "source": [
    "<img align=\"center\" src=\"img/img_p8_wf.png\" width=\"900\"/>"
   ]
  },
  {
   "cell_type": "markdown",
   "metadata": {},
   "source": [
    "<h2>Procedure: \n",
    "    in QGIS</h2>"
   ]
  },
  {
   "cell_type": "markdown",
   "metadata": {},
   "source": [
    "<h3>Install Plugins</h3>"
   ]
  },
  {
   "cell_type": "markdown",
   "metadata": {},
   "source": [
    "1. Install the following plugins for QGIS:\n",
    " * “Semi-Automatic Classification Plugin”\n",
    " * “Temporal/Spectral Profile Tool”\n"
   ]
  },
  {
   "cell_type": "markdown",
   "metadata": {},
   "source": [
    "<h3>Calibrate Sentinel 2</h3>"
   ]
  },
  {
   "cell_type": "markdown",
   "metadata": {},
   "source": [
    "<p>2. Load your Sentinel-2 bands [2,3,4,8] in QGIS. Check the properties. Run a histogram of every band. Which is the value range of your data? See <a href = \"https://sentinel.esa.int/documents/247904/685211/Sentinel-2-Products-Specification-Document\">documentation</a> for more information.</p>"
   ]
  },
  {
   "cell_type": "markdown",
   "metadata": {},
   "source": [
    "Values go from “1” to “65535” as \"0\" is reserved for the NO_DATA."
   ]
  },
  {
   "cell_type": "markdown",
   "metadata": {},
   "source": [
    "3. In which unit are the Sentinel-2 bands [2,3,4,8]? "
   ]
  },
  {
   "cell_type": "markdown",
   "metadata": {},
   "source": [
    "Digital Numbers"
   ]
  },
  {
   "cell_type": "markdown",
   "metadata": {},
   "source": [
    "4. What is the radiometric sampling of these bands? Hint: see lecture, slide 13/36. "
   ]
  },
  {
   "cell_type": "markdown",
   "metadata": {},
   "source": [
    "16bit unsigned integer"
   ]
  },
  {
   "cell_type": "markdown",
   "metadata": {},
   "source": [
    "5. Convert your Sentinel-2 bands from DN to reflectance (R) using the formula:   \n",
    "\n",
    "    $$reflectance = DN / 10000$$"
   ]
  },
  {
   "cell_type": "markdown",
   "metadata": {},
   "source": [
    "<p>Use the <code>Raster > Raster Calculator</code> (Rasterrechner) or the SCP tool for this. Please pay attention that format, name, location of exported file, formula and projection are correct.</p>  "
   ]
  },
  {
   "cell_type": "markdown",
   "metadata": {},
   "source": [
    "<img align=\"center\" src=\"img/img_p8_rastercalc.png\" width=\"700\"/>"
   ]
  },
  {
   "cell_type": "markdown",
   "metadata": {},
   "source": [
    "6. What is the new radiometric sampling of your Sentinel bands? What does it mean? "
   ]
  },
  {
   "cell_type": "markdown",
   "metadata": {},
   "source": [
    "Floating point values with 32bit. It has more bit depth. The image was before compressed for storage purposes."
   ]
  },
  {
   "cell_type": "markdown",
   "metadata": {},
   "source": [
    "7. Afterwards, in the same environment, translate your Sentinel-2 bands from reflectance to dB units. Use any of the following formulae:  \n",
    "\n",
    " $$R_{[dB]} = 10 * \\log_{10} (R) = 10 * \\bigg( \\frac{\\ln R}{\\ln 10} \\bigg) = 10 * \\log_{10}(DN) - 40 = 10 * \\bigg( \\frac{\\ln DN }{\\ln 10} \\bigg)  - 40$$"
   ]
  },
  {
   "cell_type": "markdown",
   "metadata": {},
   "source": [
    "<h3>Calibrate Sentinel 1</h3>"
   ]
  },
  {
   "cell_type": "markdown",
   "metadata": {},
   "source": [
    "8. Load the already calibrated and geocoded Sentinel 1 Scene in QGIS. This product subset contains backscattering intensity bands VV and VH.  \n",
    "Check in the properties the distribution of the pixel values:  \n",
    " * What is the distribution of intensity data? Describe (see lecture).\n",
    " * How many bands do you have?  \n",
    " * What is the radiometric sampling? "
   ]
  },
  {
   "cell_type": "markdown",
   "metadata": {},
   "source": [
    " - The data is linear intesity. Normal distribution\n",
    " -  2 bands\n",
    " - 16bit unsigned integer"
   ]
  },
  {
   "cell_type": "markdown",
   "metadata": {},
   "source": [
    "9. Translate your Sentinel-1 image into decibel units in the Raster Calculator, using the following formula:  (please also refer to lecture, slide 28, formula 13)  \n",
    "\n",
    "$$ I_{[dB]} = 10 * log_{10} I_{[linear]} = 10 * \\frac{ln I_{[linear]}}{ln 10}$$ "
   ]
  },
  {
   "cell_type": "markdown",
   "metadata": {},
   "source": [
    " * What is the distribution of the S1 in dB? \n",
    " * What is the normal range of dB values?  \n",
    " (see lecture, slides 28 and 33)"
   ]
  },
  {
   "cell_type": "markdown",
   "metadata": {},
   "source": [
    " - The decibel values typically range from -30dB to 0dB, in rare cases (very bright targets) until +10dB"
   ]
  },
  {
   "cell_type": "markdown",
   "metadata": {},
   "source": [
    "<h3>Create a RasterStack</h3>"
   ]
  },
  {
   "cell_type": "markdown",
   "metadata": {},
   "source": [
    "<p>10. Perform a Rasterstack of bands 2,3,4,8 of Sentinel-2 in reflectance. Use the <code>Merge</code> function to be found on <code>Raster > Miscellaneous > Merge</code>. IMPORTANT: make sure you specify where to save your file and mark the box 'Place each input file into a separate band', otherwise you will get an error.  \n",
    "Alternatively, you can also create a virtual rasterstack, which helps you to save memory.</p>"
   ]
  },
  {
   "cell_type": "markdown",
   "metadata": {},
   "source": [
    "<img align=\"center\" src=\"img/img_p8_rastermerge.png\" width=\"700\"/>"
   ]
  },
  {
   "cell_type": "markdown",
   "metadata": {},
   "source": [
    "11. Perform a Rasterstack of the following bands: S1-Rasterstack + S2-bands 2,3,4,8 in dB units. "
   ]
  },
  {
   "cell_type": "markdown",
   "metadata": {},
   "source": [
    "12. Load your new Rasterstacks in QGIS. Explore their properties.  \n",
    " * What is the number of bands for each Rasterstack? \n",
    " * Which band is located in every layer of the Rasterstack?\n",
    " * What is the radiometric sampling of both Rasterstacks?\n",
    " * In which units are the values of both Rasterstacks?"
   ]
  },
  {
   "cell_type": "markdown",
   "metadata": {},
   "source": [
    "Rasterstack Sentinel 2: 4 bands / bands 2,3,4,8 / Floating point values with 32bit / reflectance (unitless).  \n",
    "Rasterstack Sentinel 1+2: 6 bands / bands vv, vh, 2, 3, 4, 8 /  / decibel (dB)."
   ]
  },
  {
   "cell_type": "markdown",
   "metadata": {},
   "source": [
    "13. Explore both Rasterstacks with True Color and False Color composition. What are the differences? "
   ]
  },
  {
   "cell_type": "markdown",
   "metadata": {},
   "source": [
    "In both cases (for S1S2 and S2 Rasterstacks), it is possible to see the image in TC or FC composition. The difference is the contrast or stretching of the data, due to the different units in which the data is calculated (i.e. dB or reflectance, respectively) "
   ]
  },
  {
   "cell_type": "markdown",
   "metadata": {},
   "source": [
    "<h3>Correct invalid values in the raster</h3>"
   ]
  },
  {
   "cell_type": "markdown",
   "metadata": {},
   "source": [
    "14. Take a look at the values range of the S2 - RasterStack in reflectance. Reflectance values range from 0-1. Why is there an error? How could you eliminate it? "
   ]
  },
  {
   "cell_type": "markdown",
   "metadata": {},
   "source": [
    "There are values higher than 1. These are sensor errors. You can eliminate them with the following formula:  \n",
    "\n",
    "$$\\frac{(x \\leq 1) * x }{((x \\leq 1) * 1) + (x > 1) * 0))}$$"
   ]
  },
  {
   "cell_type": "markdown",
   "metadata": {},
   "source": [
    "15. Using the Symbology section of Properties, mask out all pixels $\\leq 1$. Use a Singleband, pseudocolor. Compare the pixels $\\leq 1$ from the Rasterstacks and the single bands. Extract the pixel values with the tool \"Identify Features\"."
   ]
  },
  {
   "cell_type": "markdown",
   "metadata": {},
   "source": [
    "<img align=\"center\" src=\"img/img_p8_errorpixel.png\" width=\"900\"/>"
   ]
  },
  {
   "cell_type": "markdown",
   "metadata": {},
   "source": [
    "<h3>Read Spectral signature of polygons or pixels from raster files</h3>"
   ]
  },
  {
   "cell_type": "markdown",
   "metadata": {},
   "source": [
    "16. Load in QGIS the shapefiles with diverse landclass polygons. "
   ]
  },
  {
   "cell_type": "markdown",
   "metadata": {},
   "source": [
    "<p>17. Analyze your  polygons or “ROIs” using the “Temporal/Spectral Profile Tool”.  See <a href = \"https://github.com/DHI-GRAS/qgis-temporal-profile\">documentation</a> for more information.</p>"
   ]
  },
  {
   "cell_type": "markdown",
   "metadata": {},
   "source": [
    "<img align=\"center\" src=\"img/img_p8_spectral.png\" width=\"900\"/>"
   ]
  },
  {
   "cell_type": "markdown",
   "metadata": {},
   "source": [
    "18. Create a series of images (*.png) for the spectral signature of the different landclasses. Describe how they differ. "
   ]
  },
  {
   "cell_type": "markdown",
   "metadata": {},
   "source": [
    "The spectral signature differs depending on the reflectance of the feature recorded in every pixel. See previous practices. "
   ]
  },
  {
   "cell_type": "markdown",
   "metadata": {},
   "source": [
    "19. Which changes of the profiles can you observe after the calibration?"
   ]
  },
  {
   "cell_type": "markdown",
   "metadata": {},
   "source": [
    "Shifted and decibel looks like normally distributed, even in Sentinel-1"
   ]
  },
  {
   "cell_type": "markdown",
   "metadata": {},
   "source": [
    "20. Can you see a difference between calibrated Sentinel-1 and Sentinel-2?"
   ]
  },
  {
   "cell_type": "markdown",
   "metadata": {},
   "source": [
    "Using GRD, you see differences along hills...But if you are using geocoded data, Sentinel-1 is smeared along the hills. This doesn't happen with Sentinel-2"
   ]
  },
  {
   "cell_type": "markdown",
   "metadata": {},
   "source": [
    "<h3>Crop Raster</h3>"
   ]
  },
  {
   "cell_type": "markdown",
   "metadata": {},
   "source": [
    "<p>21. Crop the Rasterstack of your choice to the extent of your working area or to the shape of the AOI-2. \n",
    "Use the functions <code>Raster > Extraction > Clip Raster by Extent / Clip Raster by Mask Layer</code>.</p>  "
   ]
  },
  {
   "cell_type": "markdown",
   "metadata": {},
   "source": [
    "<img align=\"center\" src=\"img/img_p8_rasterclip.png\" width=\"900\"/>"
   ]
  },
  {
   "cell_type": "markdown",
   "metadata": {},
   "source": [
    "<div style=\"text-align: right\"> <small>This tutorial was prepared with the support from Gabriel Cevallos. June 2020</small> </div>"
   ]
  }
 ],
 "metadata": {
  "kernelspec": {
   "display_name": "Python 3",
   "language": "python",
   "name": "python3"
  },
  "language_info": {
   "codemirror_mode": {
    "name": "ipython",
    "version": 3
   },
   "file_extension": ".py",
   "mimetype": "text/x-python",
   "name": "python",
   "nbconvert_exporter": "python",
   "pygments_lexer": "ipython3",
   "version": "3.7.11"
  }
 },
 "nbformat": 4,
 "nbformat_minor": 4
}
