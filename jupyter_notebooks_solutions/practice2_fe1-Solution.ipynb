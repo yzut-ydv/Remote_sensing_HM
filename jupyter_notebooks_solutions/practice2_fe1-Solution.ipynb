{
 "cells": [
  {
   "cell_type": "markdown",
   "metadata": {},
   "source": [
    "<img align=\"right\" width=\"240\" height=\"240\" src=\"img/HS_Mu__nchen_Logo.png\"/>"
   ]
  },
  {
   "cell_type": "markdown",
   "metadata": {},
   "source": [
    "<style>\n",
    "p.small {\n",
    "  line-height: 1;\n",
    "}\n",
    "</style>\n",
    "<body>\n",
    "    \n",
    "<p class=\"small\"> <b>Geoinformatics | Course Remote Sensing (1)</b><br> <small>Schmitt | Ulloa</small><br> <small>Summer Semester 2021</small><br></p>"
   ]
  },
  {
   "cell_type": "markdown",
   "metadata": {},
   "source": [
    "<h1>Practice 2: Archives for search, visualization and download of Remote Sensing data</h1>"
   ]
  },
  {
   "cell_type": "markdown",
   "metadata": {},
   "source": [
    "<h2>Overview</h2>"
   ]
  },
  {
   "cell_type": "markdown",
   "metadata": {},
   "source": [
    "<html>\n",
    "<head>\n",
    "<style>\n",
    "p.main {\n",
    "  text-align: justify;\n",
    "}\n",
    "\n",
    "p.data {\n",
    "  text-align: justify;\n",
    "}\n",
    "</style>\n",
    "</head>\n",
    "<body>\n",
    "\n",
    "<p class=\"main\"><b>Objectives:</b> Familiarize with some of the most importants archives for search, visualization and download of Remote Sensing (RS) data. Discuss about functionalities for each archive.</p>\n",
    "\n",
    "<p><b>Data:</b> For this practice, use the following file: </p>\n",
    "\n",
    "<p class=\"data\"></p>\n",
    "<ul>\n",
    "    <li> Vector file: Shapefile (AOIs.shp, id_1.shp, id_2.shp, id_3.shp and associated files)</li> \n",
    "    <li> Raster product: L1C_T32UPU_A021326_20190723T101347</li> \n",
    "</ul>\n",
    "\n",
    "<p><b>Pre-requisites:</b> Register AND/OR activate an account in the following websites at least one week before this practice.</p>\n",
    "<ul>\n",
    "    <li><a href= \"http://geoportal.bayern.de/geoportalbayern/\">LDBV</a> http://geoportal.bayern.de/geoportalbayern/</li>\n",
    "    <li><a href= \"https://geoservice.dlr.de/egp/\">DLR</a> https://geoservice.dlr.de/egp/</li>\n",
    "    <li><a href= \"https://scihub.copernicus.eu/dhus/\">ESA</a> https://scihub.copernicus.eu/dhus/</li>\n",
    "    <li><a href= \"https://earthexplorer.usgs.gov/\">USGS</a> https://earthexplorer.usgs.gov/</li>\n",
    "    <li><a href= \"https://jaxa.repo.nii.ac.jp/\">JAXA</a> https://jaxa.repo.nii.ac.jp/</li>\n",
    "    <li><a href= \"https://gsiportal.mdacorporation.com/\">MDA</a> https://gsiportal.mdacorporation.com/</li>\n",
    "    <li><a href= \"http://www.euspaceimaging.com/\">EUSI</a> http://www.euspaceimaging.com/</li>\n",
    "</ul>\n",
    "<p><b>Tasks:</b> Create an overview of the available remote sensing data for:</p> \n",
    "<ul>\n",
    "    <li> a given area</li> \n",
    "    <li> a certain period of time</li> \n",
    "    <li> and a possible application</li> \n",
    "</ul>\n",
    "<p class=\"main\">Summarize in the Table A the characteristics of the data that you can find in each Website.</p>\n",
    "\n",
    "</body>\n",
    "</html>"
   ]
  },
  {
   "cell_type": "markdown",
   "metadata": {},
   "source": [
    "<h4>Table A. Summary of data products available in diverse archives</h4>\n",
    "\n",
    "|Archive | Which type of data/product is available? | Sensors available (for raster) | Price/costs | Applications |\n",
    "| --- | --- | --- | --- | --- |\n",
    "| USGS | Optical, Radar, Aerial, Vegetation Products | Optical (IKONOS-2, OrbView-3, SPOT, Landsat, Sentinel-2, MODIS, ASTER, AVHRR, etc.), Radar (IFSAR, SIR-C), Ortophotos (Aerial imagery), Products (DEM, Vegetation monitoring products, etc) | Variable | Landcover analysis, Agriculture, atmospheric monitoring, Disaster management |\n",
    "| ESA | Optical, Radar | Optical (Sentinel 2, 3), Radar (Sentinel 1) | Free | Landcover analysis, Agriculture, atmospheric monitoring, Disaster management |\n",
    "| JAXA | Optical, Radar | ALOS, ALOS-2 | Free | Landcover analysis, Agriculture, atmospheric monitoring, Disaster management |\n",
    "| EUSI | Optical | Worldview, GeoEye, IKONOS | Commercial, Free only under Open Data Program | Same as before but with high spatial resolution |\n",
    "| DLR | \n",
    "| MDA | Optical, Radar, Aerial | Radar (Radarsat, ALOS), Optical (Worldview, Geoeye, Kompsat) | Variable | Oil and Gas, Defence and Security, Disaster Management, Aviation, Natural Resources, Agriculture, and Mining markets |\n",
    "| LDBV | Ortophotos, GIS data | Camera, field sampling, etc. | Variable | Analysis in the region of Bavaria |\n",
    "\n"
   ]
  },
  {
   "cell_type": "markdown",
   "metadata": {},
   "source": [
    "<h2>Procedure</h2>"
   ]
  },
  {
   "cell_type": "markdown",
   "metadata": {},
   "source": [
    "<h3>1. Search by input criteria</h3>\n",
    "\n",
    "<p>\n",
    "    <img src=\"img/img_usgs1.png\" width=\"350\" style=\"float:right;width:350px;\"/>\n",
    "    Login in <a href= \"https://earthexplorer.usgs.gov/\">Earth Explorer</a> and enter the following criteria:</p>\n",
    "<ul>\n",
    "    <li>Coordinate from Munich: Latitude: 48.1351 ; Longitude: 11.5820</li>\n",
    "    <li>Date: July of 2019</li>\n",
    "    <li>Data Set: Sentinel-2</li>\n",
    "</ul>\n",
    "    <p>Additional Criteria:</p>\n",
    "<ul>\n",
    "    <li>Cloud cover: less than 10%</li>\n",
    "</ul>\n",
    "<p>Explore the resultant image.  \n",
    "    \n",
    "<img src=\"img/img_usgs2.png\" width=\"350\" style=\"float:left;width:500px;\"/></p>\n"
   ]
  },
  {
   "cell_type": "markdown",
   "metadata": {
    "collapsed": true
   },
   "source": [
    "<h3>2. Search by input polygons</h3>\n",
    "\n",
    "<p>Go back to the Home Page of <a href= \"https://earthexplorer.usgs.gov/\">Earth Explorer</a>. In the search panel under <code>Search Criteria > KML/Shapefile Upload</code>, load the vector file assigned for this practice, i.e. \"AOIs.shp\".  \n",
    "    Discuss the following questions:</p>  \n",
    "<ul>\n",
    "    <li>Which format has the vector file, \"Shapefile\" or \"KML/KMZ\"?</li>  \n",
    "    <li>What is the difference?</li>\n",
    "    <li>What are the requirements for searching an area by vector file?</li>\n",
    "</ul>\n",
    "<p>Compare the resultant image from section 1. How different are they? What does this mean in terms of methods for searching data?</p>\n",
    "\n",
    "<p>Load the corresponding AOIs.shp. As raster files, you have 2 options: a predefined Bing/Google Earth/etc image or the product L1C_T32UPU_A021326_20190723T101347. To load the first, search the XYZ Tiles in Browser Panel. To load the second, search for the *.TCI layer (TCI = True color image) and add it to the Layers Panel. <p>\n",
    "    \n",
    "<img src=\"img/img_p2_qgis1.png\" width=\"700\"/>\n",
    "\n",
    "Finally, with the information about the raster file available in USGS (L1C_T32UPU_A021326_20190723T101347), fill in the following Table B. \n",
    "\n",
    "<h4>Table B. Characteristics of the searched raster file</h4>\n",
    "\n",
    "<img align=\"center\" src=\"img/table2_p2.png\" width=\"900\"/>\n"
   ]
  },
  {
   "cell_type": "markdown",
   "metadata": {},
   "source": [
    "ANSWER:  \n",
    "    The vector file is a Shapefile\n",
    "    The difference between Shapefile and KML/KMZ is that the first stores \"geometric location and attribute information of geographic features\", whereas the second, can contain the same features plus images (rasters), HTML information and can be shown on internet*.\n",
    "    The requirements for searching images for an area using vector files is that there is one single polygon for the desired area, and that this vector file is zipped. \n",
    "    \n",
    "*For more information, see: \n",
    "https://desktop.arcgis.com/en/arcmap/10.3/manage-data/kml/what-is-kml-.htm    \n",
    "https://desktop.arcgis.com/en/arcmap/10.3/manage-data/shapefiles/what-is-a-shapefile.htm  "
   ]
  },
  {
   "cell_type": "markdown",
   "metadata": {},
   "source": [
    "TABLE B: Once you click on the Sentinel-2 folder, you get the long-version name of the donwloaded product: S2A_MSIL1C_20190723T101031_N0208_R022_T32UPU_20190723T121220.SAFE. With this information, and the information on the ESA website, the answer to the Table B is as follows: "
   ]
  },
  {
   "cell_type": "markdown",
   "metadata": {},
   "source": [
    "<h4>Table B. Characteristics of the searched raster file</h4>\n",
    "\n",
    "| Sensor | Information | \n",
    "| :---: | :--: |\n",
    "| Date? | 20190723 = 23 July 2019 |\n",
    "| Name of the sensor? | S2A = Sentinel 2-A |\n",
    "| Which recording mode? | not applies |\n",
    "| What is the coverage of the image? | The granules, also called tiles, cover an area of 100x100 km2 |\n",
    "| Which channels in which spatial resolution? | Bands 2, 3, 4, 8 (10m), Bands 1, 6, 7, 8a, 11, 12 (20m), Bands 1, 9, 10 (60m) |\n",
    "| Which product variants are available? | Level-1C Top-of-atmosphere reflectances in cartographic geometry + Level-2A Bottom-of-atmosphere reflectance in cartographic geometry |\n",
    "| What is the refresh rate? | Each single satellite: 10 days, Combined constellation: 5 days |\n",
    "| How realiable / predictable? | Good. Few sensor errors on images |\n",
    "| What does it cost? | Free |"
   ]
  },
  {
   "cell_type": "markdown",
   "metadata": {},
   "source": [
    "<h3>3. Search in other RS archives</h3>\n",
    "\n",
    "<h4>Copernicus Open Access Hub</h4>\n",
    "\n",
    "<p>Login in the Home Page of <a href= \"https://scihub.copernicus.eu/dhus/\">ESA</a>. This is the website of the Copernicus Remote Sensing Program. Using the input data from Section 1, search for the same Sentinel 2 Product.</p>\n",
    "<ul>\n",
    "    <li>On the top right under <code>?</code> you will find all related information about the Sensors available, its characteristics, as well as a manual to navigate through this website.</li>\n",
    "    <li>On the left side, you find a Panel for searching products. The products are organized first date: Sensing Date and Ingestion Date. What is the difference?</li>\n",
    "    <li>Afterwards, there are sections for searching Sentinel 1, Sentinel 2 and  Sentinel 3 Products. To search an image in the Munich area, you can use the polygon drawing tool on the right side.</li>\n",
    "</ul>\n",
    "<p>Moreover, discuss how the geographical input data is being entered in each website:</p> \n",
    "<dl>\n",
    "    <dd> - in the case of USGS, you can use Coordinates, Vector files, and Path/Row;</dd>\n",
    "    <dd> - in the case of ESA, you can draw a polygon or enter the Relative Orbit Number.</dd>\n",
    "    <dd>What is the difference between Path/Row and Relative Orbit Number?</dd>   \n",
    "</dl>    \n",
    "<img src=\"img/img_p2_esa1.png\" width=\"700\"/>\n",
    "\n",
    "<h4>Deutsches Zentrum für Luft- und Raumfahrt</h4>\n",
    "\n",
    "<p>The Website of <a href= \"https://geoservice.dlr.de/egp/\">DLR</a> provides an archive with data from German sensors. Which are they? Use the input data from Section 1 to search for raster files and fill your results in the Table A.</p> \n",
    "\n",
    "<img src=\"img/img_p2_dlr1.png\" width=\"700\"/>\n",
    "\n",
    "<h4>MDA</h4>\n",
    "\n",
    "<p>The <a href= \"https://gsiportal.mdacorporation.com/\">MDA</a> corporation also provides some imagery (curiosity: search for the meaning of the name!). Use the input data from Section 1 to search for raster files and fill your results in the Table A.</p>\n",
    "\n",
    "<img src=\"img/img_p2_mda1.png\" width=\"700\"/>\n",
    "\n",
    "<h4>European Space Imaging</h4>\n",
    "\n",
    "<p>The website of the <a href= \"http://www.euspaceimaging.com/\">EUSI</a> redirects to their archive: digitalglobe. Use the input data from Section 1 to search for raster files and fill your results in the Table A.</p>\n",
    "\n",
    "<img src=\"img/img_p2_eusi1.png\" width=\"700\"/>\n",
    "\n",
    "<h4>Japan Aerospace Exploration Agency</h4>\n",
    "\n",
    "<p>The Website of <a href= \"https://auig2.jaxa.jp/ips/home\">JAXA</a> offers diverse products. Which ones? What do they have in common?</p>\n",
    "\n",
    "<img src=\"img/img_p2_jaxa1.png\" width=\"700\"/>\n",
    "\n",
    "<h4>Geoportal Bayern</h4>\n",
    "\n",
    "<p>The Website of <a href= \"http://geoportal.bayern.de/geoportalbayern/\">Geoportal Bayern</a> offers georesources from the \"Geodateninfrastruktur Bayern (GDI-BY)\". Under Anwendungen , you can find diverse products and their providers. How they differ from the raster files found with all the previous archives?</p>\n",
    "\n",
    "<img src=\"img/img_p2_ldbv1.png\" width=\"700\"/>\n",
    "\n",
    "<p><b>Extra task:</b> On the Website of <code>Geoportal Bayern > Dienste > Digitales Orthophoto 80 cm Bodenauflösung - Web Map Service > Detailinformationen</code>. Copy the URL given there (https://geoservices.bayern.de/wms/v2/ogc_dop80_oa.cgi?). On QGIS, go to <code>Layer > Add Layer > Add WMS/WMTS</code>. On the new window, go to <code>Layers > New</code>. Fill in the data required (Name, URL) and click OK.<p> Click <code>Connect</code>, and select the multicolored layer. <code>Add</code> it to QGIS. Compare this layer with the Bing/Google Earth image and the Sentinel-2 TCI layer. What are the differences?</p>"
   ]
  },
  {
   "cell_type": "markdown",
   "metadata": {},
   "source": [
    "ANSWER:  \n",
    "    - Sensing date: date the image was taken by the sensor. Ingestion date: date the image was processed to be available.   \n",
    "    - Relative orbit is similar to a \"trail\" that the satellite follows when it circles the Earth. The satellite always follows the same trail (Sentinel satellite takes 143 trails to map the whole Earth from north to south). Path and Row is a method to divide the Earth in different squares. This method is used for Landsat images.   \n",
    "    - DLR archive offers images from sensors like: SRTM (Shuttle Radar Topography Mission) and Terra-SAR-X, among others.  \n",
    "    - For JAXA: see Table A. They are optical and radar sensors, like the ones offered from the USA and European programs.   \n",
    "    - The rasters offered by LDBV (used in this course) are Ortophotos. This images were taken by a camera onboard an airplane or drone. On the other hand, the rasters from Sentinel, are optical imagery taken from a satellite. The radiometric, spatial, temporal resolution and n°bands are completely different. Please see \"properties\" for this.  \n",
    "    - Ortophotos vs Bing/Google Earth images: ortophotos [3 bands, images taken every year or few years, known spatial resolution], Bing/Google Earth [1 band, basemap, mosaic of many images put together]. \n"
   ]
  },
  {
   "cell_type": "markdown",
   "metadata": {},
   "source": [
    "<div style=\"text-align: right\"> <small>This tutorial was prepared with the support from Gabriel Cevallos. Update YZUT March 2021.</small> </div>"
   ]
  }
 ],
 "metadata": {
  "kernelspec": {
   "display_name": "Python 3",
   "language": "python",
   "name": "python3"
  },
  "language_info": {
   "codemirror_mode": {
    "name": "ipython",
    "version": 3
   },
   "file_extension": ".py",
   "mimetype": "text/x-python",
   "name": "python",
   "nbconvert_exporter": "python",
   "pygments_lexer": "ipython3",
   "version": "3.7.11"
  }
 },
 "nbformat": 4,
 "nbformat_minor": 2
}
