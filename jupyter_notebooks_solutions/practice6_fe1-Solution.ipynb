{
 "cells": [
  {
   "cell_type": "markdown",
   "metadata": {},
   "source": [
    "<img align=\"right\" width=\"240\" height=\"240\" src=\"img/HS_Mu__nchen_Logo.png\"/>"
   ]
  },
  {
   "cell_type": "markdown",
   "metadata": {},
   "source": [
    "<style>\n",
    "p.small {\n",
    "  line-height: 1;\n",
    "}\n",
    "</style>\n",
    "<body>\n",
    "    \n",
    "<p class=\"small\"> <b>Geoinformatics | Course Remote Sensing (1)</b><br> <small>Schmitt | Ulloa</small><br> <small>Summer Semester 2023</small><br></p>"
   ]
  },
  {
   "cell_type": "markdown",
   "metadata": {},
   "source": [
    "<h1>Practice 6: Accuracy Assessment</h1>"
   ]
  },
  {
   "cell_type": "markdown",
   "metadata": {},
   "source": [
    "<h2>Overview</h2>"
   ]
  },
  {
   "cell_type": "markdown",
   "metadata": {},
   "source": [
    "<p class=\"main\"><b>Objectives:</b> Create your validation data and perform an accuracy assessment of the classification results from the last practice.</p>\n",
    "\n",
    "<p><b>Data:</b> For this practice, use the following files: </p>\n",
    "\n",
    "<p class=\"data\"></p>\n",
    "<ul>\n",
    "    <li> Raster files:</li>\n",
    "    <ul>\n",
    "        <li> Image classified: GeoTIFF Sentinel-2A Rasterstack (See Practice 2.)</li> \n",
    "        <li> Classification:  GeoTIFF raster with the classification result using either RF or MD (See Practice 5).</li>  \n",
    "        <li> Reference data: ATKIS and CORINE datasets.</li>\n",
    "    </ul> \n",
    "    <li> Vector file: your validation polygons in Shapefile format.</li>\n",
    "</ul>\n",
    "\n",
    "<p><b>Tasks:</b> load your S2A rasterstack and reference data in QGIS to create your validation polygons. Use your validation polygons to run an accuracy assessment on your classification rasters. Compare results and understand the different types of errors used to quantify the quality of your classification.</p> "
   ]
  },
  {
   "cell_type": "markdown",
   "metadata": {},
   "source": [
    "<h2>Procedure</h2>"
   ]
  },
  {
   "cell_type": "markdown",
   "metadata": {},
   "source": [
    "<h3>A. In QGIS: create validation data</h3>"
   ]
  },
  {
   "cell_type": "markdown",
   "metadata": {},
   "source": [
    "1. Load your Sentinel-2A Rasterstack in QGIS. On top of that, load ATKIS and CORINE datasets. To open ATKIS raster, add it as a WMS Layer. Enter username and password and connect to the server. Check that the projection is UTM 32N. Load the 'Standard' band to visualize all features. If you want, you can also load individual features, like water bodies ('Gewässer') or vegetation, for example. "
   ]
  },
  {
   "cell_type": "markdown",
   "metadata": {},
   "source": [
    "<img align=\"center\" src=\"img/img_p6_wmsAtkis.png\" width=\"900\"/>"
   ]
  },
  {
   "cell_type": "markdown",
   "metadata": {},
   "source": [
    "2. Compare all layers, using the reference data to create your polygons."
   ]
  },
  {
   "cell_type": "markdown",
   "metadata": {},
   "source": [
    "<img align=\"center\" src=\"img/img_p6_Atkis_S2a.png\" width=\"900\"/>"
   ]
  },
  {
   "cell_type": "markdown",
   "metadata": {},
   "source": [
    "3. Create a new set of shapefiles called \"validation.shp\" and with the help of the reference data, draw again at least 15 polygons per landclass. NOTICE: you have to use the same number, id and label of landclasses that you used for your training polygons."
   ]
  },
  {
   "cell_type": "markdown",
   "metadata": {},
   "source": [
    "<img align=\"center\" src=\"img/img_p6_valpoly.png\" width=\"900\"/>"
   ]
  },
  {
   "cell_type": "markdown",
   "metadata": {},
   "source": [
    "<h3>B. In Python: set up</h3>"
   ]
  },
  {
   "cell_type": "markdown",
   "metadata": {},
   "source": [
    "4. The first thing you always have to do, is to define which libraries or packages you will need. You don't need to change anything here. However, if you don't run this cell, the code won't work."
   ]
  },
  {
   "cell_type": "code",
   "execution_count": 1,
   "metadata": {},
   "outputs": [],
   "source": [
    "import os\n",
    "import numpy as np # math and array handling\n",
    "import matplotlib.pyplot as plt # plot figures\n",
    "from matplotlib.colors import ListedColormap # for plotting, import color palettes\n",
    "from osgeo import gdal, ogr, gdal_array # I/O validation data, rasters\n",
    "import rasterio as rio # Rasterio reads and writes GEOTIFF data and makes it understandable for Python\n",
    "from skimage import exposure # to perform histogram equalization of rasters\n",
    "\n",
    "import warnings\n",
    "warnings.filterwarnings(\"ignore\", category=DeprecationWarning) "
   ]
  },
  {
   "cell_type": "markdown",
   "metadata": {},
   "source": [
    "5. To do the Accuracy Assessment we are going to use some functions provided by the scikit-learn library"
   ]
  },
  {
   "cell_type": "code",
   "execution_count": 2,
   "metadata": {},
   "outputs": [],
   "source": [
    "from sklearn.metrics import classification_report, accuracy_score, confusion_matrix\n",
    "import pandas as pd # to write and handle dataframes"
   ]
  },
  {
   "cell_type": "markdown",
   "metadata": {},
   "source": [
    "6. To display our confusion matrix we are going to use the seaborn library which we are going to install using the anaconda prompt with the \"!\" operator: "
   ]
  },
  {
   "cell_type": "code",
   "execution_count": 3,
   "metadata": {},
   "outputs": [
    {
     "name": "stdout",
     "output_type": "stream",
     "text": [
      "Collecting package metadata (current_repodata.json): ...working... done\n",
      "Solving environment: ...working... done\n",
      "\n",
      "## Package Plan ##\n",
      "\n",
      "  environment location: C:\\Users\\ulloa-to\\AppData\\Local\\Continuum\\anaconda3\\envs\\rio\n",
      "\n",
      "  added / updated specs:\n",
      "    - seaborn\n",
      "\n",
      "\n",
      "The following NEW packages will be INSTALLED:\n",
      "\n",
      "  certifi            pkgs/main/noarch::certifi-2020.6.20-pyhd3eb1b0_3 None\n",
      "  seaborn            pkgs/main/win-64::seaborn-0.12.2-py37haa95532_0 None\n",
      "\n",
      "The following packages will be UPDATED:\n",
      "\n",
      "  ca-certificates    conda-forge::ca-certificates-2022.12.~ --> pkgs/main::ca-certificates-2023.05.30-haa95532_0 None\n",
      "  openssl            conda-forge::openssl-1.1.1q-h8ffe710_0 --> pkgs/main::openssl-1.1.1u-h2bbff1b_0 None\n",
      "\n",
      "\n",
      "Preparing transaction: ...working... done\n",
      "Verifying transaction: ...working... done\n",
      "Executing transaction: ...working... done\n",
      "Retrieving notices: ...working... done\n"
     ]
    },
    {
     "name": "stderr",
     "output_type": "stream",
     "text": [
      "\n",
      "The environment is inconsistent, please check the package plan carefully\n",
      "The following packages are causing the inconsistency:\n",
      "\n",
      "  - defaults/noarch::affine==2.3.0=py_0\n",
      "  - defaults/noarch::argon2-cffi==21.3.0=pyhd3eb1b0_0\n",
      "  - defaults/win-64::argon2-cffi-bindings==21.2.0=py37h2bbff1b_0\n",
      "  - defaults/noarch::attrs==20.3.0=pyhd3eb1b0_0\n",
      "  - defaults/noarch::backcall==0.2.0=pyhd3eb1b0_0\n",
      "  - defaults/noarch::bleach==3.3.0=pyhd3eb1b0_0\n",
      "  - conda-forge/win-64::brotlipy==0.7.0=py37hcc03f2d_1004\n",
      "  - conda-forge/win-64::cartopy==0.17.0=py37hde43876_1009\n",
      "  - defaults/win-64::cffi==1.15.1=py37h2bbff1b_0\n",
      "  - conda-forge/noarch::charset-normalizer==3.1.0=pyhd8ed1ab_0\n",
      "  - defaults/noarch::click==7.1.2=pyhd3eb1b0_0\n",
      "  - defaults/noarch::click-plugins==1.1.1=py_0\n",
      "  - defaults/win-64::cligj==0.7.1=py37haa95532_0\n",
      "  - defaults/noarch::colorama==0.4.4=pyhd3eb1b0_0\n",
      "  - conda-forge/noarch::contextily==1.3.0=pyhd8ed1ab_0\n",
      "  - conda-forge/win-64::cryptography==37.0.4=py37h65266a2_0\n",
      "  - defaults/win-64::cycler==0.10.0=py37_0\n",
      "  - defaults/noarch::decorator==5.0.3=pyhd3eb1b0_0\n",
      "  - defaults/noarch::defusedxml==0.7.1=pyhd3eb1b0_0\n",
      "  - defaults/noarch::descartes==1.1.0=py_4\n",
      "  - defaults/win-64::entrypoints==0.3=py37_0\n",
      "  - defaults/win-64::fiona==1.8.13.post1=py37hd760492_0\n",
      "  - defaults/win-64::gdal==3.0.2=py37hdf43c64_0\n",
      "  - conda-forge/noarch::geographiclib==1.52=pyhd8ed1ab_0\n",
      "  - defaults/noarch::geopandas==0.9.0=py_1\n",
      "  - defaults/noarch::geopandas-base==0.9.0=py_1\n",
      "  - conda-forge/noarch::geoplot==0.5.1=pyhd8ed1ab_0\n",
      "  - conda-forge/noarch::geopy==2.3.0=pyhd8ed1ab_0\n",
      "  - conda-forge/noarch::idna==3.4=pyhd8ed1ab_0\n",
      "  - defaults/win-64::importlib-metadata==3.7.3=py37haa95532_1\n",
      "  - defaults/noarch::importlib_metadata==3.7.3=hd3eb1b0_1\n",
      "  - defaults/win-64::ipykernel==5.3.4=py37h5ca1d4c_0\n",
      "  - conda-forge/win-64::ipython==7.13.0=py37hc8dfbb8_2\n",
      "  - defaults/noarch::ipython_genutils==0.2.0=pyhd3eb1b0_1\n",
      "  - defaults/noarch::ipywidgets==7.6.3=pyhd3eb1b0_1\n",
      "  - defaults/win-64::jedi==0.17.0=py37_0\n",
      "  - defaults/noarch::jinja2==2.11.3=pyhd3eb1b0_0\n",
      "  - defaults/noarch::joblib==1.0.1=pyhd3eb1b0_0\n",
      "  - defaults/noarch::jsonschema==3.2.0=py_2\n",
      "  - defaults/win-64::jupyter==1.0.0=py37_7\n",
      "  - defaults/noarch::jupyterlab_pygments==0.1.2=py_0\n",
      "  - defaults/noarch::jupyterlab_widgets==1.0.0=pyhd3eb1b0_1\n",
      "  - defaults/noarch::jupyter_client==6.1.12=pyhd3eb1b0_0\n",
      "  - defaults/noarch::jupyter_console==6.4.0=pyhd3eb1b0_0\n",
      "  - defaults/win-64::jupyter_core==4.7.1=py37haa95532_0\n",
      "  - defaults/win-64::kiwisolver==1.3.1=py37hd77b12b_0\n",
      "  - defaults/noarch::mapclassify==2.4.3=pyhd3eb1b0_0\n",
      "  - defaults/win-64::markupsafe==1.1.1=py37hfa6e2cd_1\n",
      "  - defaults/win-64::matplotlib==3.3.4=py37haa95532_0\n",
      "  - defaults/win-64::matplotlib-base==3.3.4=py37h49ac443_0\n",
      "  - conda-forge/noarch::mercantile==1.2.1=pyhd8ed1ab_0\n",
      "  - defaults/win-64::mistune==0.8.4=py37hfa6e2cd_1001\n",
      "  - defaults/win-64::mkl-service==2.3.0=py37h196d8e1_0\n",
      "  - defaults/win-64::mkl_fft==1.3.0=py37h46781fe_0\n",
      "  - defaults/win-64::mkl_random==1.1.0=py37h675688f_0\n",
      "  - defaults/noarch::munch==2.5.0=py_0\n",
      "  - defaults/win-64::nbclient==0.5.13=py37haa95532_0\n",
      "  - defaults/win-64::nbconvert==6.0.7=py37_0\n",
      "  - defaults/noarch::nbformat==5.1.3=pyhd3eb1b0_0\n",
      "  - defaults/win-64::nest-asyncio==1.5.5=py37haa95532_0\n",
      "  - defaults/noarch::networkx==2.6.3=pyhd3eb1b0_0\n",
      "  - defaults/win-64::notebook==6.3.0=py37haa95532_0\n",
      "  - defaults/win-64::numpy==1.19.2=py37hadc3359_0\n",
      "  - defaults/win-64::numpy-base==1.19.2=py37ha3acd2a_0\n",
      "  - conda-forge/noarch::owslib==0.28.0=pyhd8ed1ab_0\n",
      "  - defaults/noarch::packaging==21.3=pyhd3eb1b0_0\n",
      "  - defaults/win-64::pandas==1.2.3=py37hf11a4ad_0\n",
      "  - defaults/win-64::pandocfilters==1.4.3=py37haa95532_1\n",
      "  - defaults/noarch::parso==0.8.2=pyhd3eb1b0_0\n",
      "  - defaults/noarch::pickleshare==0.7.5=pyhd3eb1b0_1003\n",
      "  - defaults/win-64::pillow==9.2.0=py37hdc2b20a_1\n",
      "  - defaults/win-64::pip==21.0.1=py37haa95532_0\n",
      "  - defaults/noarch::prometheus_client==0.10.0=pyhd3eb1b0_0\n",
      "  - defaults/noarch::prompt-toolkit==3.0.17=pyh06a4308_0\n",
      "  - defaults/noarch::prompt_toolkit==3.0.17=hd3eb1b0_0\n",
      "  - defaults/noarch::pycparser==2.21=pyhd3eb1b0_0\n",
      "  - conda-forge/noarch::pyepsg==0.4.0=py_0\n",
      "  - defaults/noarch::pygments==2.8.1=pyhd3eb1b0_0\n",
      "  - conda-forge/win-64::pykdtree==1.3.4=py37hec80d1f_2\n",
      "  - conda-forge/noarch::pyopenssl==22.0.0=pyhd8ed1ab_1\n",
      "  - defaults/noarch::pyparsing==2.4.7=pyhd3eb1b0_0\n",
      "  - defaults/win-64::pyproj==2.6.1.post1=py37h593ac45_1\n",
      "  - defaults/win-64::pyqt==5.9.2=py37h6538335_2\n",
      "  - defaults/win-64::pyrsistent==0.17.3=py37he774522_0\n",
      "  - conda-forge/noarch::pyshp==2.3.1=pyhd8ed1ab_0\n",
      "  - conda-forge/win-64::pysocks==1.7.1=py37h03978a9_5\n",
      "  - defaults/win-64::python==3.7.10=h6244533_0\n",
      "  - defaults/noarch::python-dateutil==2.8.1=pyhd3eb1b0_0\n",
      "  - conda-forge/win-64::python_abi==3.7=1_cp37m\n",
      "  - defaults/noarch::pytz==2021.1=pyhd3eb1b0_0\n",
      "  - defaults/win-64::pywin32==227=py37he774522_1\n",
      "  - defaults/win-64::pywinpty==0.5.7=py37_0\n",
      "  - conda-forge/win-64::pyyaml==6.0=py37hcc03f2d_4\n",
      "  - defaults/win-64::pyzmq==20.0.0=py37hd77b12b_1\n",
      "  - defaults/noarch::qtconsole==5.0.3=pyhd3eb1b0_0\n",
      "  - defaults/noarch::qtpy==1.9.0=py_0\n",
      "  - defaults/win-64::rasterio==1.1.0=py37h039b02d_0\n",
      "  - conda-forge/noarch::requests==2.28.2=pyhd8ed1ab_1\n",
      "  - defaults/win-64::rtree==0.9.4=py37h21ff451_1\n",
      "  - defaults/win-64::scikit-learn==0.24.1=py37hf11a4ad_0\n",
      "  - defaults/win-64::scipy==1.6.2=py37h14eb087_0\n",
      "  - conda-forge/noarch::seaborn-base==0.12.2=pyhd8ed1ab_0\n",
      "  - defaults/noarch::send2trash==1.5.0=pyhd3eb1b0_1\n",
      "  - defaults/win-64::setuptools==52.0.0=py37haa95532_0\n",
      "  - defaults/win-64::shapely==1.7.1=py37h210f175_0\n",
      "  - defaults/win-64::sip==4.19.8=py37h6538335_0\n",
      "  - defaults/win-64::six==1.15.0=py37haa95532_0\n",
      "  - defaults/noarch::snuggs==1.4.7=py_0\n",
      "  - defaults/win-64::terminado==0.9.4=py37haa95532_0\n",
      "  - defaults/noarch::testpath==0.4.4=pyhd3eb1b0_0\n",
      "  - defaults/noarch::threadpoolctl==2.2.0=pyh0d69192_0\n",
      "  - defaults/win-64::tornado==6.1=py37h2bbff1b_0\n",
      "  - defaults/noarch::traitlets==5.0.5=pyhd3eb1b0_0\n",
      "  - defaults/win-64::typing-extensions==4.3.0=py37haa95532_0\n",
      "  - defaults/win-64::typing_extensions==4.3.0=py37haa95532_0\n",
      "  - conda-forge/noarch::urllib3==1.26.15=pyhd8ed1ab_0\n",
      "  - defaults/noarch::wcwidth==0.2.5=py_0\n",
      "  - defaults/win-64::webencodings==0.5.1=py37_1\n",
      "  - defaults/noarch::wheel==0.36.2=pyhd3eb1b0_0\n",
      "  - defaults/win-64::widgetsnbextension==3.5.1=py37_0\n",
      "  - defaults/win-64::wincertstore==0.2=py37_0\n",
      "  - conda-forge/noarch::win_inet_pton==1.1.0=pyhd8ed1ab_6\n",
      "  - conda-forge/noarch::xyzservices==2023.2.0=pyhd8ed1ab_0\n",
      "  - defaults/noarch::zipp==3.4.1=pyhd3eb1b0_0\n",
      "\n",
      "\n",
      "==> WARNING: A newer version of conda exists. <==\n",
      "  current version: 22.9.0\n",
      "  latest version: 23.5.0\n",
      "\n",
      "Please update conda by running\n",
      "\n",
      "    $ conda update -n base -c defaults conda\n",
      "\n",
      "\n"
     ]
    },
    {
     "data": {
      "text/plain": [
       "'\\n==> WARNING: A newer version of conda exists. <==\\n  current version: 4.8.2\\n  latest version: 4.8.3\\n\\nPlease update conda by running\\n\\n    $ conda update -n base -c defaults conda\\n'"
      ]
     },
     "execution_count": 3,
     "metadata": {},
     "output_type": "execute_result"
    }
   ],
   "source": [
    "!conda install seaborn -y\n",
    "import seaborn as sns\n",
    "\n",
    "# NOTICE: open Anaconda prompt or Command line and update conda if you get the following message: \n",
    "'''\n",
    "==> WARNING: A newer version of conda exists. <==\n",
    "  current version: 4.8.2\n",
    "  latest version: 4.8.3\n",
    "\n",
    "Please update conda by running\n",
    "\n",
    "    $ conda update -n base -c defaults conda\n",
    "'''"
   ]
  },
  {
   "cell_type": "markdown",
   "metadata": {},
   "source": [
    "7. Afterwards, you have to define the paths where your data is located. You can also specify where you want the results to be saved. Please adapt the following code, with the path of the files on your computer.  \n",
    "Remember to add an \"r\" at the beginning of your path."
   ]
  },
  {
   "cell_type": "code",
   "execution_count": 4,
   "metadata": {},
   "outputs": [],
   "source": [
    "# path where my data is located\n",
    "folder_src = r\"U:\\Ulloa\\fe_ss2023\"\n",
    "\n",
    "# path where I want to save my results \n",
    "folder_results = r\"U:\\Ulloa\\fe_ss2023\\results\""
   ]
  },
  {
   "cell_type": "markdown",
   "metadata": {},
   "source": [
    "<h3>C. Accuracy Assessment (EXERCISE): Understanding Confusion Matrix and Error estimation</h3>"
   ]
  },
  {
   "cell_type": "markdown",
   "metadata": {},
   "source": [
    "<img align=\"center\" src=\"img/img_p6_cfmatrix.png\" width=\"900\"/>"
   ]
  },
  {
   "cell_type": "markdown",
   "metadata": {},
   "source": [
    "8. Let us make a hands-in exercise on Accuracy Assessment with the data from the lecture (Chapter \"Validation\"). The idea is to calculate yourself the different errors Total Accuracy, Completeness, and Correctness (also known as Overall Accuracy, Producer's accuracy, and User's accuracy.)  \n",
    "\n",
    "<p><a href= \"http://gis.humboldt.edu/OLM/Courses/GSP_216_Online/lesson6-2/metrics.html\">More information on Errors' estimation</a></p>"
   ]
  },
  {
   "cell_type": "markdown",
   "metadata": {},
   "source": [
    "<h4>Create matrix of values with landclasses as labels</h4>"
   ]
  },
  {
   "cell_type": "code",
   "execution_count": 5,
   "metadata": {},
   "outputs": [
    {
     "name": "stdout",
     "output_type": "stream",
     "text": [
      "          forest  water  soil  sum_cols\n",
      "forest       758     29    18       805\n",
      "water         72    746    77       895\n",
      "soil         384     58   356       798\n",
      "sum_rows    1214    833   451      2498\n"
     ]
    }
   ],
   "source": [
    "# create the labels for the classification file\n",
    "index = [\"forest\", \"water\", \"soil\", \"sum_rows\"]\n",
    "\n",
    "# create the labels for the reference data\n",
    "columns = [\"forest\", \"water\", \"soil\", \"sum_cols\"]\n",
    "\n",
    "# create some random values\n",
    "values = np.array([[758, 29, 18, 805],\n",
    "                  [72, 746, 77, 895],\n",
    "                  [384, 58, 356, 798],\n",
    "                  [1214,833,451,2498]]) # as an array\n",
    "\n",
    "# turn the array into a pandas dataframe (table)\n",
    "cm_df = pd.DataFrame(values, index=index) # read it in a table\n",
    "cm_df.columns = columns # define which ones are the labels for the columns\n",
    "print(cm_df) # show"
   ]
  },
  {
   "cell_type": "markdown",
   "metadata": {},
   "source": [
    "<h4>Total or Overall accuracy</h4>"
   ]
  },
  {
   "cell_type": "code",
   "execution_count": 6,
   "metadata": {},
   "outputs": [
    {
     "data": {
      "text/plain": [
       "0.7445956765412329"
      ]
     },
     "execution_count": 6,
     "metadata": {},
     "output_type": "execute_result"
    }
   ],
   "source": [
    "# Total Accuracy / Overall accuracy = sum of the diagonal/total number of pixels\n",
    "\n",
    "OA = (758 + 746 + 356) / 2498\n",
    "OA"
   ]
  },
  {
   "cell_type": "code",
   "execution_count": 7,
   "metadata": {},
   "outputs": [
    {
     "name": "stdout",
     "output_type": "stream",
     "text": [
      "The Overall accuracy is 74.45956765412329 %\n",
      "The Overall accuracy is 74.46%\n"
     ]
    }
   ],
   "source": [
    "print('The Overall accuracy is', format(OA*100), '%')\n",
    "print('The Overall accuracy is {:.2f}%'.format(OA*100)) # notice, print with point, not comma\n",
    "# .2f = refers to the number of decimals to print"
   ]
  },
  {
   "cell_type": "markdown",
   "metadata": {},
   "source": [
    "<h4>Completeness or Producer's accuracy or Recall</h4>"
   ]
  },
  {
   "cell_type": "code",
   "execution_count": 8,
   "metadata": {},
   "outputs": [],
   "source": [
    "# Producer's accuracy = correctly classified pixels / total number of reference sites\n",
    "\n",
    "PA_forest = 758/1214\n",
    "PA_water = 746/833\n",
    "PA_soil = 356/451"
   ]
  },
  {
   "cell_type": "code",
   "execution_count": 9,
   "metadata": {},
   "outputs": [
    {
     "name": "stdout",
     "output_type": "stream",
     "text": [
      "Completeness or Producer accuracy Report\n",
      "The Producer accuracy for FOREST is 62.44%\n",
      "The Producer accuracy for WATER is 89.56%\n",
      "The Producer accuracy for SOIL is 78.94%\n"
     ]
    }
   ],
   "source": [
    "print('Completeness or Producer accuracy Report')\n",
    "print('The Producer accuracy for FOREST is {:.2f}%'.format(PA_forest*100)) \n",
    "print('The Producer accuracy for WATER is {:.2f}%'.format(PA_water*100)) \n",
    "print('The Producer accuracy for SOIL is {:.2f}%'.format(PA_soil*100)) "
   ]
  },
  {
   "cell_type": "markdown",
   "metadata": {},
   "source": [
    "<h4>Correctness or User's accuracy or Precision</h4>"
   ]
  },
  {
   "cell_type": "code",
   "execution_count": 10,
   "metadata": {},
   "outputs": [],
   "source": [
    "# User's accuracy = correctly classified pixels / total number of classified sites\n",
    "\n",
    "UA_forest = 758/805\n",
    "UA_water = 746/895\n",
    "UA_soil = 356/798"
   ]
  },
  {
   "cell_type": "code",
   "execution_count": 11,
   "metadata": {},
   "outputs": [
    {
     "name": "stdout",
     "output_type": "stream",
     "text": [
      "Correctness or User accuracy Report\n",
      "The User accuracy for FOREST is 94.16%\n",
      "The User accuracy for WATER is 83.35%\n",
      "The User accuracy for SOIL is 44.61%\n"
     ]
    }
   ],
   "source": [
    "print('Correctness or User accuracy Report')\n",
    "print('The User accuracy for FOREST is {:.2f}%'.format(UA_forest*100)) \n",
    "print('The User accuracy for WATER is {:.2f}%'.format(UA_water*100)) \n",
    "print('The User accuracy for SOIL is {:.2f}%'.format(UA_soil*100)) "
   ]
  },
  {
   "cell_type": "markdown",
   "metadata": {},
   "source": [
    "<h4>Kappa coeficient</h4>"
   ]
  },
  {
   "cell_type": "code",
   "execution_count": 12,
   "metadata": {},
   "outputs": [
    {
     "name": "stdout",
     "output_type": "stream",
     "text": [
      "The Kappa coeficient is 0.62\n"
     ]
    }
   ],
   "source": [
    "# Calculate Kappa\n",
    "\n",
    "# First, calculate K (See equation in the lecture)\n",
    "K = (1214*805 + 833*895 + 451* 798)\n",
    "# Second, list all the other variables needed\n",
    "g = 758 + 746 + 356 # correctly classified pixels\n",
    "n = 2498 # sum of all pixels\n",
    "n2 = pow(n, 2) # n to the power of 2\n",
    "# Third, use all variables to calculate kappa (See equation in the lecture)\n",
    "kappa = (g*n-K)/(n2 - K)\n",
    "\n",
    "print('The Kappa coeficient is {:.2f}'.format(kappa))"
   ]
  },
  {
   "cell_type": "markdown",
   "metadata": {},
   "source": [
    "9. We can play around with another data. In the next example, take a look at the following data. \n",
    " - y_true: are the real values of the pixels\n",
    " - y_pred: are the values predicted by the classification"
   ]
  },
  {
   "cell_type": "code",
   "execution_count": 13,
   "metadata": {},
   "outputs": [],
   "source": [
    "y_true = [2, 0, 2, 2, 0, 1, 0, 2, 1, 2, 2, 1]\n",
    "y_pred = [0, 0, 2, 2, 0, 2, 0, 1, 2, 2, 0, 1]"
   ]
  },
  {
   "cell_type": "markdown",
   "metadata": {},
   "source": [
    "10. How are the classification classes named and how many are they? "
   ]
  },
  {
   "cell_type": "markdown",
   "metadata": {},
   "source": [
    "3 classes: 0, 1, 2"
   ]
  },
  {
   "cell_type": "markdown",
   "metadata": {},
   "source": [
    "11. To which dataset \"reference\" and \"classification\", correspond \"y_true\" and \"y_pred\"?"
   ]
  },
  {
   "cell_type": "markdown",
   "metadata": {},
   "source": [
    "y_true = reference, y_pred = classification"
   ]
  },
  {
   "cell_type": "markdown",
   "metadata": {},
   "source": [
    "12. Using y_true, y_pred, build a confusion matrix, using the function 'confusion_matrix()'. Store the result in an object called 'confu_test'. For more info, visit: https://scikit-learn.org/stable/modules/generated/sklearn.metrics.confusion_matrix.html"
   ]
  },
  {
   "cell_type": "code",
   "execution_count": 14,
   "metadata": {},
   "outputs": [
    {
     "data": {
      "text/plain": [
       "array([[3, 0, 0],\n",
       "       [0, 1, 2],\n",
       "       [2, 1, 3]], dtype=int64)"
      ]
     },
     "execution_count": 14,
     "metadata": {},
     "output_type": "execute_result"
    }
   ],
   "source": [
    "confu_test = confusion_matrix(y_true, y_pred)\n",
    "confu_test"
   ]
  },
  {
   "cell_type": "markdown",
   "metadata": {},
   "source": [
    "13. Plot your object 'confu_test' using the following code:  \n",
    "> plt.figure(figsize=(10,7))  \n",
    "sns.heatmap(confu_test, annot=True, fmt='g',cmap = 'YlGnBu')  \n",
    "plt.xlabel('classes - predicted')  \n",
    "plt.ylabel('classes - truth')  \n",
    "plt.show()\n"
   ]
  },
  {
   "cell_type": "code",
   "execution_count": 15,
   "metadata": {},
   "outputs": [
    {
     "data": {
      "image/png": "[encoded data removed]",
      "text/plain": [
       "<Figure size 720x504 with 2 Axes>"
      ]
     },
     "metadata": {
      "needs_background": "light"
     },
     "output_type": "display_data"
    }
   ],
   "source": [
    "plt.figure(figsize=(10,7))\n",
    "sns.heatmap(confu_test, annot=True, fmt='g',cmap = 'YlGnBu')\n",
    "plt.xlabel('classes - predicted')\n",
    "plt.ylabel('classes - truth')\n",
    "plt.show()"
   ]
  },
  {
   "cell_type": "markdown",
   "metadata": {},
   "source": [
    "14. Manipulate the arrays 'y_true' and 'y_pred' to increase the accuracy of class '1'. (hint: there are 2 possible things to do)"
   ]
  },
  {
   "cell_type": "markdown",
   "metadata": {},
   "source": [
    "First option: increase the number of values for class 1. This also would mean that probably you will have to increase the number of values for class '2' to make it balanced"
   ]
  },
  {
   "cell_type": "code",
   "execution_count": 16,
   "metadata": {},
   "outputs": [],
   "source": [
    "y_true = [2, 0, 2, 2, 0, 1, 0, 2, 1, 2, 2, 1, 1, 1]\n",
    "y_pred = [0, 0, 2, 2, 0, 2, 0, 1, 2, 2, 0, 1, 1, 1]"
   ]
  },
  {
   "cell_type": "markdown",
   "metadata": {},
   "source": [
    "Second option: keep the same number of values for the class '1' but match the number true with predicted data for this class. "
   ]
  },
  {
   "cell_type": "code",
   "execution_count": 17,
   "metadata": {},
   "outputs": [],
   "source": [
    "y_true = [2, 0, 2, 2, 0, 0, 0, 1, 0, 2, 2, 1]\n",
    "y_pred = [0, 0, 2, 2, 0, 2, 0, 1, 2, 2, 0, 1]"
   ]
  },
  {
   "cell_type": "markdown",
   "metadata": {},
   "source": [
    "15. Now we can run exactly the same analysis from exercise Nr.8, using a function in Python that summarizes all the previous calculations in one step. For this, we will use the same dataset, but change the labels of the landclasses to values:   \n",
    "  FROM [\"forest\", \"water\", \"soil\"] TO [1, 2, 3,]"
   ]
  },
  {
   "cell_type": "code",
   "execution_count": 18,
   "metadata": {},
   "outputs": [
    {
     "name": "stdout",
     "output_type": "stream",
     "text": [
      "          1    2    3  c_sum\n",
      "1       758   29   18    805\n",
      "2        72  746   77    895\n",
      "3       384   58  356    798\n",
      "r_sum  1214  833  451   2498\n"
     ]
    }
   ],
   "source": [
    "# define labels of rows and columns\n",
    "index = [1, 2, 3, 'r_sum']\n",
    "columns = [1, 2, 3, 'c_sum']\n",
    "# fill in values\n",
    "values = np.array([[758, 29, 18, 805],\n",
    "                  [72, 746, 77, 895],\n",
    "                  [384, 58, 356, 798],\n",
    "                  [1214,833,451,2498]])\n",
    "\n",
    "# turn the array into a pandas dataframe (table)\n",
    "cm_df = pd.DataFrame(values, index=index)\n",
    "cm_df.columns = columns\n",
    "print(cm_df)"
   ]
  },
  {
   "cell_type": "markdown",
   "metadata": {},
   "source": [
    "<h4>Accuracy Assessment function on Python</h4>"
   ]
  },
  {
   "cell_type": "code",
   "execution_count": 19,
   "metadata": {},
   "outputs": [],
   "source": [
    "# Let's configure the floating point precision of our output\n",
    "np.set_printoptions(precision=2) # 2 decimals\n",
    "\n",
    "# function for error estimations (AA)\n",
    "def accAss(name, gcm, n_classes):\n",
    "    #Completeness\n",
    "    print('Accuracy Assessment for',name,'Prediction')\n",
    "    comp = np.zeros(n_classes)\n",
    "    for i in range(n_classes):\n",
    "        comp[i]=gcm[i+1][i+1]/gcm[i+1]['r_sum']\n",
    "    print('Producer Accuracy / Recall [%]:', (comp*100))\n",
    "    \n",
    "    #Correctness\n",
    "    corr = np.zeros(n_classes)\n",
    "    for i in range(n_classes):\n",
    "        corr[i]=gcm[i+1][i+1]/gcm['c_sum'][i+1]\n",
    "    print('User Accuracy / Precision [%]:',(corr*100))                         \n",
    "    \n",
    "    #Total Accuracy\n",
    "    diag = np.zeros(n_classes)\n",
    "    for i in range(n_classes):\n",
    "        diag[i]=gcm[i+1][i+1]\n",
    "    g = np.sum(diag)\n",
    "    n = gcm['c_sum']['r_sum']\n",
    "    ta = g/n\n",
    "    print('Total Accuracy [%%]: %.2f' % (ta*100))\n",
    "    \n",
    "    #Correlation\n",
    "    corr_v = np.zeros(n_classes)\n",
    "    for i in range(n_classes):\n",
    "        corr_v[i]=gcm[i+1]['r_sum']*gcm['c_sum'][i+1]\n",
    "    K = np.sum(corr_v)\n",
    "    \n",
    "    #Cohen's Kappa\n",
    "    k=(g*n-K)/((n*n)-K)\n",
    "    print(\"Cohens's Kappa: %.2f\" % k)"
   ]
  },
  {
   "cell_type": "markdown",
   "metadata": {},
   "source": [
    "16. Apply this function on the same example of the lecture (exercise Nr.15), and compare with the results you calculated by hand (exercise Nr.8):"
   ]
  },
  {
   "cell_type": "code",
   "execution_count": 20,
   "metadata": {},
   "outputs": [
    {
     "name": "stdout",
     "output_type": "stream",
     "text": [
      "Accuracy Assessment for Lecture Example Prediction\n",
      "Producer Accuracy / Recall [%]: [62.44 89.56 78.94]\n",
      "User Accuracy / Precision [%]: [94.16 83.35 44.61]\n",
      "Total Accuracy [%]: 74.46\n",
      "Cohens's Kappa: 0.62\n"
     ]
    }
   ],
   "source": [
    "# apply function for AA on table 'cm_df', with 3 classes\n",
    "accAss('Lecture Example',cm_df, 3)"
   ]
  },
  {
   "cell_type": "markdown",
   "metadata": {},
   "source": [
    "<h3>D. Load raster and vector data</h3>"
   ]
  },
  {
   "cell_type": "markdown",
   "metadata": {},
   "source": [
    "17. On this section you will load your raster and vector data and perform an accuracy assessment of your classification. The process of loading the data is exactly the same as for last week: classification. "
   ]
  },
  {
   "cell_type": "markdown",
   "metadata": {},
   "source": [
    "<h4>Load Sentinel2-A raster</h4>"
   ]
  },
  {
   "cell_type": "markdown",
   "metadata": {},
   "source": [
    "18. Load the raster file that you want to. Adapt the code to your data."
   ]
  },
  {
   "cell_type": "code",
   "execution_count": 21,
   "metadata": {},
   "outputs": [],
   "source": [
    "# path to the classified image (Setinel-2A Rasterstack) \n",
    "s2_stack = os.path.join(folder_src, 'data/raster','S2_20220304_Cliped_Reflectance_RGBNIR.tif')"
   ]
  },
  {
   "cell_type": "markdown",
   "metadata": {},
   "source": [
    "19. Extract the information of your raster data. Here, you make the attributes readable for the classification algorithm. Afterwards, the data is being transformed into a Numpy array for easier calculations.\n",
    "Check the printing commands and the variables that are being used!"
   ]
  },
  {
   "cell_type": "code",
   "execution_count": 22,
   "metadata": {},
   "outputs": [
    {
     "name": "stdout",
     "output_type": "stream",
     "text": [
      "Raster format is: <class 'numpy.float32'>\n",
      "Raster number of rows: 193\n",
      "Raster number of columns: 250\n",
      "Raster number of bands: 4\n"
     ]
    }
   ],
   "source": [
    "# load image data\n",
    "#In this script we are Using gdal.open() instead of rio.open()\n",
    "img_ds = gdal.Open(s2_stack, gdal.GA_ReadOnly)\n",
    "\n",
    "img = np.zeros((img_ds.RasterYSize, img_ds.RasterXSize, img_ds.RasterCount),\n",
    "               gdal_array.GDALTypeCodeToNumericTypeCode(img_ds.GetRasterBand(1).DataType))\n",
    "for b in range(img.shape[2]):\n",
    "    img[:, :, b] = img_ds.GetRasterBand(b + 1).ReadAsArray()\n",
    "\n",
    "print(\"Raster format is:\", gdal_array.GDALTypeCodeToNumericTypeCode(img_ds.GetRasterBand(1).DataType))\n",
    "    \n",
    "# store the variables above in a more meaningful way. You will use these variables later.\n",
    "row = img_ds.RasterYSize\n",
    "col = img_ds.RasterXSize\n",
    "band_number = img_ds.RasterCount\n",
    "# Values bigger when 1 will be set to 1\n",
    "img[img>1] = 1\n",
    "\n",
    "print(\"Raster number of rows: {}\".format(row))\n",
    "print(\"Raster number of columns: {}\".format(col))\n",
    "print(\"Raster number of bands: {}\".format(band_number))"
   ]
  },
  {
   "cell_type": "markdown",
   "metadata": {},
   "source": [
    "<h4>Load Minimum Distance and Random Forest classification rasters</h4>"
   ]
  },
  {
   "cell_type": "markdown",
   "metadata": {},
   "source": [
    "20. Define individual paths for your classification rasters"
   ]
  },
  {
   "cell_type": "code",
   "execution_count": 23,
   "metadata": {},
   "outputs": [],
   "source": [
    "# path to the classification rasters, depending of the algorithm used\n",
    "#Random Forest\n",
    "rf_pred_path = os.path.join(folder_results, 'rf_nt250.tif')\n",
    "#Minimum Distance\n",
    "knn_pred_path = os.path.join(folder_results, 'md_classi.tif')"
   ]
  },
  {
   "cell_type": "markdown",
   "metadata": {},
   "source": [
    "21. Now we are going to load the prediction result rasters from the last practice and see if the dimensions are correct (they should match the extent of your Sentinel-2a image):"
   ]
  },
  {
   "cell_type": "code",
   "execution_count": 24,
   "metadata": {},
   "outputs": [
    {
     "name": "stdout",
     "output_type": "stream",
     "text": [
      "Dimensions of RF after 'reshape()' are (193, 250)\n"
     ]
    }
   ],
   "source": [
    "# Check dimensions of RF classification\n",
    "\n",
    "# open file\n",
    "rf_open = gdal.Open(rf_pred_path, gdal.GA_ReadOnly)\n",
    "# extract metadata\n",
    "rf_meta = np.zeros((rf_open.RasterYSize, rf_open.RasterXSize, rf_open.RasterCount), gdal_array.GDALTypeCodeToNumericTypeCode(rf_open.GetRasterBand(1).DataType))\n",
    "for b in range(rf_meta.shape[2]):\n",
    "    rf_meta[:, :, b] = rf_open.GetRasterBand(b + 1).ReadAsArray()\n",
    "# define the new shape for the rf classification\n",
    "new_shape = (rf_meta.shape[0], rf_meta.shape[1])\n",
    "# reshape\n",
    "rf_pred = rf_meta[:, :, :int(rf_meta.shape[2])].reshape(new_shape)\n",
    "\n",
    "# compare the dimensions. They are the same as S2a\n",
    "print(\"Dimensions of RF after 'reshape()' are\",rf_pred.shape)"
   ]
  },
  {
   "cell_type": "code",
   "execution_count": 25,
   "metadata": {},
   "outputs": [
    {
     "name": "stdout",
     "output_type": "stream",
     "text": [
      "Dimensions of MD after 'reshape()' are (193, 250)\n"
     ]
    }
   ],
   "source": [
    "# Check dimensions of MD classification = prediction\n",
    "\n",
    "# open file\n",
    "knn_open = gdal.Open(knn_pred_path, gdal.GA_ReadOnly)\n",
    "# extract metadata\n",
    "knn_meta = np.zeros((knn_open.RasterYSize, knn_open.RasterXSize, knn_open.RasterCount), gdal_array.GDALTypeCodeToNumericTypeCode(knn_open.GetRasterBand(1).DataType))\n",
    "for b in range(knn_meta.shape[2]):\n",
    "    knn_meta[:, :, b] = knn_open.GetRasterBand(b + 1).ReadAsArray()\n",
    "# define the new shape for the md classification\n",
    "new_shapeknn = (knn_meta.shape[0], knn_meta.shape[1])\n",
    "# reshape\n",
    "knn_pred = knn_meta[:, :, :int(knn_meta.shape[2])].reshape(new_shapeknn)\n",
    "\n",
    "# compare the dimensions. They are the same as S2a\n",
    "print(\"Dimensions of MD after 'reshape()' are\",knn_pred.shape)"
   ]
  },
  {
   "cell_type": "markdown",
   "metadata": {},
   "source": [
    "<h4>Load validation shapefile</h4>"
   ]
  },
  {
   "cell_type": "markdown",
   "metadata": {},
   "source": [
    "22. Load your validation data (shapefiles). Define the column that has the attributes (i.e. 'landclass' OR 'class' OR 'landcover').\n",
    "Adapt the code to your data."
   ]
  },
  {
   "cell_type": "code",
   "execution_count": 26,
   "metadata": {},
   "outputs": [],
   "source": [
    "#validation as shape files\n",
    "validation = os.path.join(folder_src,'data/vector','test_20220304.shp')"
   ]
  },
  {
   "cell_type": "code",
   "execution_count": 27,
   "metadata": {},
   "outputs": [],
   "source": [
    "# what is the attributes name of your classes in the shape file (field name of the classes)?\n",
    "attribute = 'class'"
   ]
  },
  {
   "cell_type": "markdown",
   "metadata": {},
   "source": [
    "23. Recheck if the validation data is in the correct format:"
   ]
  },
  {
   "cell_type": "code",
   "execution_count": 28,
   "metadata": {},
   "outputs": [
    {
     "ename": "AttributeError",
     "evalue": "'NoneType' object has no attribute 'GetLayer'",
     "output_type": "error",
     "traceback": [
      "\u001b[1;31m---------------------------------------------------------------------------\u001b[0m",
      "\u001b[1;31mAttributeError\u001b[0m                            Traceback (most recent call last)",
      "\u001b[1;32m<ipython-input-28-cf2176cd7edb>\u001b[0m in \u001b[0;36m<module>\u001b[1;34m\u001b[0m\n\u001b[0;32m      1\u001b[0m \u001b[1;31m# load validation data and show all shape attributes\u001b[0m\u001b[1;33m\u001b[0m\u001b[1;33m\u001b[0m\u001b[1;33m\u001b[0m\u001b[0m\n\u001b[0;32m      2\u001b[0m \u001b[0mshape_dataset\u001b[0m \u001b[1;33m=\u001b[0m \u001b[0mogr\u001b[0m\u001b[1;33m.\u001b[0m\u001b[0mOpen\u001b[0m\u001b[1;33m(\u001b[0m\u001b[0mvalidation\u001b[0m\u001b[1;33m)\u001b[0m\u001b[1;33m\u001b[0m\u001b[1;33m\u001b[0m\u001b[0m\n\u001b[1;32m----> 3\u001b[1;33m \u001b[0mshape_layer\u001b[0m \u001b[1;33m=\u001b[0m \u001b[0mshape_dataset\u001b[0m\u001b[1;33m.\u001b[0m\u001b[0mGetLayer\u001b[0m\u001b[1;33m(\u001b[0m\u001b[1;33m)\u001b[0m\u001b[1;33m\u001b[0m\u001b[1;33m\u001b[0m\u001b[0m\n\u001b[0m\u001b[0;32m      4\u001b[0m \u001b[1;33m\u001b[0m\u001b[0m\n\u001b[0;32m      5\u001b[0m \u001b[1;31m# extract the names of all attributes (fieldnames) in the shape file\u001b[0m\u001b[1;33m\u001b[0m\u001b[1;33m\u001b[0m\u001b[1;33m\u001b[0m\u001b[0m\n",
      "\u001b[1;31mAttributeError\u001b[0m: 'NoneType' object has no attribute 'GetLayer'"
     ]
    }
   ],
   "source": [
    "# load validation data and show all shape attributes\n",
    "shape_dataset = ogr.Open(validation)\n",
    "shape_layer = shape_dataset.GetLayer()\n",
    "\n",
    "# extract the names of all attributes (fieldnames) in the shape file\n",
    "attributes = []\n",
    "ldefn = shape_layer.GetLayerDefn()\n",
    "for n in range(ldefn.GetFieldCount()):\n",
    "    fdefn = ldefn.GetFieldDefn(n)\n",
    "    attributes.append(fdefn.name)\n",
    "    \n",
    "# print the attributes\n",
    "print('Available attributes in the shape file are: {}'.format(attributes))"
   ]
  },
  {
   "cell_type": "markdown",
   "metadata": {},
   "source": [
    "24. Rasterize your validation polygons"
   ]
  },
  {
   "cell_type": "code",
   "execution_count": null,
   "metadata": {},
   "outputs": [],
   "source": [
    "# load training data from shape file and rasterize\n",
    "\n",
    "shape_dataset = ogr.Open(validation)\n",
    "shape_layer = shape_dataset.GetLayer()\n",
    "\n",
    "mem_drv = gdal.GetDriverByName('MEM')\n",
    "mem_raster = mem_drv.Create('',img_ds.RasterXSize,img_ds.RasterYSize,1,gdal.GDT_UInt16)\n",
    "mem_raster.SetProjection(img_ds.GetProjection())\n",
    "mem_raster.SetGeoTransform(img_ds.GetGeoTransform())\n",
    "mem_band = mem_raster.GetRasterBand(1)\n",
    "mem_band.Fill(0)\n",
    "mem_band.SetNoDataValue(0)\n",
    "\n",
    "att_ = 'ATTRIBUTE='+attribute\n",
    "# http://gdal.org/gdal__alg_8h.html#adfe5e5d287d6c184aab03acbfa567cb1\n",
    "# http://gis.stackexchange.com/questions/31568/gdal-rasterizelayer-doesnt-burn-all-polygons-to-raster\n",
    "err = gdal.RasterizeLayer(mem_raster, [1], shape_layer, None, None, [1],  [att_,\"ALL_TOUCHED=TRUE\"])\n",
    "assert err == gdal.CE_None\n",
    "\n",
    "val = mem_raster.ReadAsArray()"
   ]
  },
  {
   "cell_type": "markdown",
   "metadata": {},
   "source": [
    "25. Voilà! Now you have your validation polygons in the same resolution and projection as your Sentinel-2 Rasterstack. The next task is to extract the validation pixels (OR 'samples') from the Rasterstack.\n",
    "The samples will be used for measuring the accuracy of the classification raster. In total, I am extracting 1091 samples from the matrix 'X'."
   ]
  },
  {
   "cell_type": "code",
   "execution_count": null,
   "metadata": {},
   "outputs": [],
   "source": [
    "# Number of validation pixels:\n",
    "n_samples = (val > 0).sum()\n",
    "print('{n} validation samples'.format(n=n_samples))\n",
    "\n",
    "# What are our classification labels?\n",
    "labels = np.unique(val[val > 0])\n",
    "print('validation data include {n} classes: {classes}'.format(n=labels.size, classes=labels))\n",
    "\n",
    "# Subset the image dataset with the image = X\n",
    "# Mask the classes on the validation dataset = y\n",
    "# These will have n_samples rows\n",
    "X_rf = rf_pred[val > 0]\n",
    "y = val[val > 0]\n",
    "\n",
    "print('Our X matrix is sized: {sz}'.format(sz=X_rf.shape))\n",
    "print('Our y array is sized: {sz}'.format(sz=y.shape))"
   ]
  },
  {
   "cell_type": "markdown",
   "metadata": {},
   "source": [
    "26. Why the dimensions of both X and y are the same? How many bands each object has? Compare this result with the step Nr.10 from Practice 5. "
   ]
  },
  {
   "cell_type": "markdown",
   "metadata": {},
   "source": [
    "The dimensions of X and y are the same, because X is being selected based on positived values for y (i.e. X_rf = rf_pred[val > 0]).   \n",
    "Each object has only 1 band.  \n",
    "In Practice Nr.5 we tried to select in this step the number of training samples. Here we are selecting the number of validation samples. "
   ]
  },
  {
   "cell_type": "markdown",
   "metadata": {},
   "source": [
    "27. What determines the number of samples from the polygons?"
   ]
  },
  {
   "cell_type": "markdown",
   "metadata": {},
   "source": [
    "The size and number of the validation polygons"
   ]
  },
  {
   "cell_type": "markdown",
   "metadata": {},
   "source": [
    "<h4>Visualization of data</h4>"
   ]
  },
  {
   "cell_type": "markdown",
   "metadata": {},
   "source": [
    "28. Plot all your files: S2A rasterstack, validation polygons, classification rasters "
   ]
  },
  {
   "cell_type": "code",
   "execution_count": null,
   "metadata": {},
   "outputs": [],
   "source": [
    "# Define color palette\n",
    "#\"Water\", \"Ground\", \"Coniferous\", \"Deciduous\", \"Roof\", \"AgricultureAreaType1\", \"AgricultureAreaType2\"\n",
    "custom_cmap = ListedColormap([\"lightseagreen\",\"gray\",\"darkgreen\",\"lightgreen\",\"red\",\"yellow\",\"green\"])"
   ]
  },
  {
   "cell_type": "code",
   "execution_count": null,
   "metadata": {},
   "outputs": [],
   "source": [
    "# Define the size of the graphs\n",
    "#plot=plt.subplots(figsize=(20,20))\n",
    "fig,ax = plt.subplots(figsize=(20,20))\n",
    "# Define the spacing among graphs\n",
    "fig.tight_layout(pad=4.0)\n",
    "\n",
    "# Plot the rasterstack with an Adaptive Equalization\n",
    "plt.subplot(221)\n",
    "img_adapteq = exposure.equalize_adapthist(img, clip_limit=0.03)\n",
    "plot_rs = plt.imshow(img_adapteq)\n",
    "plt.title('Sentinel-2 RasterStack\\n RGB, colors adjusted', fontsize=20)\n",
    "## More info: https://scikit-image.org/docs/dev/auto_examples/color_exposure/plot_equalize.html\n",
    "\n",
    "# Plot the blue band with the training polygons\n",
    "plt.subplot(222)\n",
    "plt.imshow(img[:, :, 0], cmap=plt.cm.Greys_r)\n",
    "# Add your training polygons on top. NOTICE that you have here validation and not training polygons\n",
    "plot_tr = plt.imshow(val, cmap='jet', alpha=0.5)\n",
    "plt.title(\"Sentinel-2 blue band\\n  with training polygons\", fontsize=20)\n",
    "                  \n",
    "# Plot the RandomForest classification\n",
    "plt.subplot(223)\n",
    "plot_rf = plt.imshow(rf_pred, cmap=custom_cmap)\n",
    "plt.title('Random Forest Classification\\n n-trees = 250', fontsize=20)\n",
    "## I eliminated here the colorbar, for visualization purposes\n",
    "\n",
    "# Plot the Minimum Distance classification\n",
    "plt.subplot(224)\n",
    "plot_md = plt.imshow(knn_pred, cmap=custom_cmap)\n",
    "plt.title('Minimum Distance Classification', fontsize=20)\n",
    "## I eliminated here the colorbar, for visualization purposes\n",
    "\n",
    "# show your plots. This command has to be run only once.\n",
    "plt.show()\n",
    "\n"
   ]
  },
  {
   "cell_type": "markdown",
   "metadata": {},
   "source": [
    "<h3>E. Accuracy Assessment: Estimate Confusion Matrix and Errors on your classification</h3>"
   ]
  },
  {
   "cell_type": "markdown",
   "metadata": {},
   "source": [
    "29. Plot the confusion matrix of your Random Forest classification "
   ]
  },
  {
   "cell_type": "code",
   "execution_count": null,
   "metadata": {},
   "outputs": [],
   "source": [
    "# use the function 'confusion_matrix' from scikit-learn to plot the confusion matrix of your RF classification\n",
    "cm_val = confusion_matrix(y, X_rf).T # invert rows and cols\n",
    "\n",
    "# X_rf = prediction from rf\n",
    "# X_md = prediction from md\n",
    "# y = 'true pixel values' = reference dataset = validation shapefile\n",
    "\n",
    "# define size of plot\n",
    "plt.figure(figsize=(10,7))\n",
    "# color the table. The higher the value, the darker the color\n",
    "sns.heatmap(cm_val, annot=True, fmt='g',cmap = 'YlGnBu' )\n",
    "# labels\n",
    "plt.xlabel('Reference')\n",
    "plt.ylabel('Classification')\n",
    "# plot\n",
    "plt.show()\n",
    "# print text\n",
    "print('Confusion matrix of Random Forest classification\\n Landclasses:\\n 0 = Water\\n 1 = Ground\\n 2 = Coniferous\\n 3 = Deciduous\\n 4 = Roof\\n 5 = AgricultureAreaType1\\n 6 = AgricultureAreaType2')"
   ]
  },
  {
   "cell_type": "markdown",
   "metadata": {},
   "source": [
    "30. Drop your results in a pandas table"
   ]
  },
  {
   "cell_type": "code",
   "execution_count": null,
   "metadata": {},
   "outputs": [],
   "source": [
    "# Compute a simple cross tabulation of two (or more) factors. By default computes a frequency table of the factors unless an array of values and an aggregation function are passed.\n",
    "rcm = pd.crosstab(y, X_rf, margins=True).T # invert rows and cols\n",
    "\n",
    "\n",
    "# rename the colums and rows of the table\n",
    "rcm.rename(columns={'All':'c_sum'}, index={'All':'r_sum'}, inplace=True)\n",
    "print(rcm)"
   ]
  },
  {
   "cell_type": "markdown",
   "metadata": {},
   "source": [
    "31. Apply the Acuracy Assessment function on the confusion matrix of your Random Forest classification"
   ]
  },
  {
   "cell_type": "code",
   "execution_count": null,
   "metadata": {},
   "outputs": [],
   "source": [
    "# apply function for AA on table 'rcm', with 7 classes\n",
    "accAss('Random Forest',rcm, 7)"
   ]
  },
  {
   "cell_type": "markdown",
   "metadata": {},
   "source": [
    "32. Verify 'by hand' that the errors estimation of the RF classification is correct"
   ]
  },
  {
   "cell_type": "code",
   "execution_count": null,
   "metadata": {},
   "outputs": [],
   "source": [
    "OA = (315 + 339 + 199 + 63 + 232 + 506 + 593) / 2416\n",
    "print('The Overall accuracy is {:.2f}%'.format(OA*100))\n",
    "\n",
    "PA_Water = 315/315\n",
    "PA_Ground = 339/342\n",
    "PA_Coniferous = 199/207\n",
    "PA_Deciduous = 63/92\n",
    "PA_Roof = 232/351\n",
    "PA_AgricultureAreaType1 = 506/510\n",
    "PA_AgricultureAreaType2 = 593/599\n",
    "\n",
    "UA_Water = 315/315\n",
    "UA_Ground = 339/419\n",
    "UA_Coniferous = 199/204\n",
    "UA_Deciduous = 63/93\n",
    "UA_Roof = 232/244\n",
    "UA_AgricultureAreaType1 = 506/527\n",
    "UA_AgricultureAreaType2 = 593/614\n",
    "\n",
    "# Calculate Kappa\n",
    "\n",
    "# First, calculate K (equation 6 in the lecture)\n",
    "K = (315*315 + 342*419 + 207*204 + 92*93 + 351*244 + 510*527 + 599*614)\n",
    "# Second, list all the other variables needed\n",
    "g = 315 + 339 + 199 + 63 + 232 + 506 + 593 # correctly classified pixels\n",
    "n = 2416 # sum of all pixels\n",
    "n2 = pow(n, 2) # n to the power of 2\n",
    "# Third, use all variables to calculate kappa (equation 7 in the lecture)\n",
    "kappa = (g*n-K)/(n2 - K)\n",
    "\n",
    "print('The Kappa coeficient is {:.2f}'.format(kappa))"
   ]
  },
  {
   "cell_type": "markdown",
   "metadata": {},
   "source": [
    "33. Calculate the confusion matrix and estimate the errors of your Minimum Distance classification."
   ]
  },
  {
   "cell_type": "code",
   "execution_count": null,
   "metadata": {},
   "outputs": [],
   "source": [
    "# Subset the image dataset with the image = X\n",
    "# Mask the classes on the validation dataset = y\n",
    "# These will have n_samples rows\n",
    "X_md = knn_pred[val > 0]\n",
    "y = val[val > 0]\n",
    "\n",
    "# use the function 'confusion_matrix' from scikit-learn to plot the confusion matrix of your RF classification\n",
    "cm_val_md = confusion_matrix(y, X_md).T # invert rows and cols\n",
    "print(cm_val_md)"
   ]
  },
  {
   "cell_type": "code",
   "execution_count": null,
   "metadata": {},
   "outputs": [],
   "source": [
    "# Compute a simple cross tabulation of two (or more) factors. By default computes a frequency table of the factors unless an array of values and an aggregation function are passed.\n",
    "md_cm = pd.crosstab(y, X_md, margins=True).T  # invert rows and cols\n",
    "\n",
    "# rename the colums and rows of the table\n",
    "md_cm.rename(columns={'All':'c_sum'}, index={'All':'r_sum'}, inplace=True)\n",
    "print(md_cm)"
   ]
  },
  {
   "cell_type": "code",
   "execution_count": null,
   "metadata": {},
   "outputs": [],
   "source": [
    "# apply function for AA on table 'rcm', with 7 classes\n",
    "accAss('Minimum Distance',md_cm, 7) "
   ]
  },
  {
   "cell_type": "markdown",
   "metadata": {},
   "source": [
    "34. Plot the confusion matrix of your MD classification"
   ]
  },
  {
   "cell_type": "code",
   "execution_count": null,
   "metadata": {},
   "outputs": [],
   "source": [
    "# define size of plot\n",
    "plt.figure(figsize=(10,7))\n",
    "# color the table. The higher the value, the darker the color\n",
    "sns.heatmap(cm_val_md, annot=True, fmt='g',cmap = 'YlGnBu' )\n",
    "# labels\n",
    "plt.xlabel('Reference')\n",
    "plt.ylabel('Classification')\n",
    "# plot\n",
    "plt.show()\n",
    "# print text\n",
    "print('Confusion matrix of Minimum Distance classification\\n Landclasses:\\n 0 = Water\\n 1 = Ground\\n 2 = Coniferous\\n 3 = Deciduous\\n 4 = Roof\\n 5 = AgricultureAreaType1\\n 6 = AgricultureAreaType2')"
   ]
  },
  {
   "cell_type": "markdown",
   "metadata": {},
   "source": [
    "35. Is there any difference in the AA of every classification? What are the reasons for this? "
   ]
  },
  {
   "cell_type": "markdown",
   "metadata": {},
   "source": [
    "(discussed in the practice)"
   ]
  },
  {
   "cell_type": "markdown",
   "metadata": {},
   "source": [
    "<div style=\"text-align: right\"> <small>This tutorial was prepared with the support from Gabriel Cevallos (2020) and Marina Trinz (2023)</small> </div>"
   ]
  }
 ],
 "metadata": {
  "kernelspec": {
   "display_name": "Python 3",
   "language": "python",
   "name": "python3"
  },
  "language_info": {
   "codemirror_mode": {
    "name": "ipython",
    "version": 3
   },
   "file_extension": ".py",
   "mimetype": "text/x-python",
   "name": "python",
   "nbconvert_exporter": "python",
   "pygments_lexer": "ipython3",
   "version": "3.7.10"
  }
 },
 "nbformat": 4,
 "nbformat_minor": 4
}
